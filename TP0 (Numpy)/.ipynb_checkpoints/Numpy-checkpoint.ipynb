{
 "cells": [
  {
   "cell_type": "code",
   "execution_count": 1,
   "id": "c93c8ae4",
   "metadata": {},
   "outputs": [
    {
     "name": "stdout",
     "output_type": "stream",
     "text": [
      "Requirement already satisfied: numpy in c:\\users\\bourz\\anaconda3\\lib\\site-packages (1.20.3)\n"
     ]
    }
   ],
   "source": [
    "!pip install numpy"
   ]
  },
  {
   "cell_type": "code",
   "execution_count": 2,
   "id": "8e3c848e",
   "metadata": {},
   "outputs": [],
   "source": [
    "import numpy as np"
   ]
  },
  {
   "cell_type": "markdown",
   "id": "7eb3e57a",
   "metadata": {},
   "source": [
    "## Création des intéractions"
   ]
  },
  {
   "cell_type": "code",
   "execution_count": 35,
   "id": "7c0dfd96",
   "metadata": {},
   "outputs": [],
   "source": [
    "Reply = np.array([\n",
    "    [1, 5, 5, 0, 3],\n",
    "    [2, 0, 5, 0, 3],\n",
    "    [0, 0, 0, 0, 0],\n",
    "    [2, 0, 0, 4, 0],\n",
    "    [0, 4, 2, 0, 0]\n",
    "])\n",
    "\n",
    "Retweet = np.array([\n",
    "    [0, 2, 4, 0, 0],\n",
    "    [0, 0, 0, 0, 0],\n",
    "    [0, 0, 0, 0, 0],\n",
    "    [0, 0, 0, 4, 3],\n",
    "    [0, 2, 5, 0, 0]\n",
    "])\n",
    "\n",
    "Like = np.array([\n",
    "    [2, 5, 1, 0, 3],\n",
    "    [0, 0, 0, 0, 0],\n",
    "    [0, 5, 0, 3, 3],\n",
    "    [1, 0, 0, 4, 1],\n",
    "    [0, 0, 9, 0, 0]\n",
    "])"
   ]
  },
  {
   "cell_type": "markdown",
   "id": "e892e765",
   "metadata": {},
   "source": [
    "## Statistiques d’engagement"
   ]
  },
  {
   "cell_type": "code",
   "execution_count": 4,
   "id": "389a7260",
   "metadata": {},
   "outputs": [
    {
     "data": {
      "text/plain": [
       "0"
      ]
     },
     "execution_count": 4,
     "metadata": {},
     "output_type": "execute_result"
    }
   ],
   "source": [
    "# 1. L'utilisateur qui répond plus que les autres\n",
    "A = Reply.sum(axis=1)\n",
    "np.argmax(A)"
   ]
  },
  {
   "cell_type": "code",
   "execution_count": 5,
   "id": "7a7cc480",
   "metadata": {},
   "outputs": [
    {
     "data": {
      "text/plain": [
       "3"
      ]
     },
     "execution_count": 5,
     "metadata": {},
     "output_type": "execute_result"
    }
   ],
   "source": [
    "# 2. L'utilisateur qui retweet plus que les autres\n",
    "B = Retweet.sum(axis=1)\n",
    "np.argmax(B)\n",
    "# Affiche que le premier, problème quand plusieurs"
   ]
  },
  {
   "cell_type": "code",
   "execution_count": 6,
   "id": "14132d28",
   "metadata": {},
   "outputs": [
    {
     "data": {
      "text/plain": [
       "array([[2]], dtype=int64)"
      ]
     },
     "execution_count": 6,
     "metadata": {},
     "output_type": "execute_result"
    }
   ],
   "source": [
    "# 3. Les utilisateurs qui n'ont pas de retweets et pas de replies\n",
    "C = A + B\n",
    "np.argwhere(C == 0)"
   ]
  },
  {
   "cell_type": "code",
   "execution_count": 7,
   "id": "ff3b5a23",
   "metadata": {},
   "outputs": [
    {
     "data": {
      "text/plain": [
       "array([2., 0., 0., 4., 0.])"
      ]
     },
     "execution_count": 7,
     "metadata": {},
     "output_type": "execute_result"
    }
   ],
   "source": [
    "# 4. Le nombre de like de chaque utilisateur à ses propres tweets\n",
    "Id = np.eye(5)\n",
    "D = Like * Id\n",
    "D = D.sum(axis=0)\n",
    "D"
   ]
  },
  {
   "cell_type": "code",
   "execution_count": 8,
   "id": "47704094",
   "metadata": {},
   "outputs": [
    {
     "data": {
      "text/plain": [
       "array([ 9.,  0., 11.,  2.,  9.])"
      ]
     },
     "execution_count": 8,
     "metadata": {},
     "output_type": "execute_result"
    }
   ],
   "source": [
    "# 5. Le nombre des Likes que chaque utilisateur a donné aux tweets autre que ces propres tweets\n",
    "H = Like - np.diag(D)\n",
    "E = H.sum(axis=1)\n",
    "E"
   ]
  },
  {
   "cell_type": "code",
   "execution_count": 9,
   "id": "1858f2ce",
   "metadata": {},
   "outputs": [
    {
     "data": {
      "text/plain": [
       "array([[3]], dtype=int64)"
      ]
     },
     "execution_count": 9,
     "metadata": {},
     "output_type": "execute_result"
    }
   ],
   "source": [
    "# 6. les utilisateurs qui aiment leurs propres tweets plus qu’ils aiment les tweets des autres\n",
    "F = D > E\n",
    "F.astype(int)\n",
    "F = np.argwhere(F == 1)\n",
    "F"
   ]
  },
  {
   "cell_type": "code",
   "execution_count": 10,
   "id": "659973e8",
   "metadata": {},
   "outputs": [
    {
     "data": {
      "text/plain": [
       "1"
      ]
     },
     "execution_count": 10,
     "metadata": {},
     "output_type": "execute_result"
    }
   ],
   "source": [
    "# 7. Leur nombre\n",
    "F.shape[1]"
   ]
  },
  {
   "cell_type": "code",
   "execution_count": 11,
   "id": "76bc93ad",
   "metadata": {},
   "outputs": [
    {
     "data": {
      "text/plain": [
       "array([31, 10, 11, 19, 22])"
      ]
     },
     "execution_count": 11,
     "metadata": {},
     "output_type": "execute_result"
    }
   ],
   "source": [
    "# 8. Le nombre des interactions que chaque utilisateur a fait\n",
    "G = np.concatenate((Reply, Retweet, Like), axis=1)\n",
    "G.sum(axis=1)"
   ]
  },
  {
   "cell_type": "markdown",
   "id": "904ab343",
   "metadata": {},
   "source": [
    "## Statistiques sur les interactions"
   ]
  },
  {
   "cell_type": "code",
   "execution_count": 12,
   "id": "28d8f0fa",
   "metadata": {},
   "outputs": [
    {
     "data": {
      "text/plain": [
       "(array([[0., 5., 1., 0., 3.],\n",
       "        [0., 0., 0., 0., 0.],\n",
       "        [0., 5., 0., 3., 3.],\n",
       "        [1., 0., 0., 0., 1.],\n",
       "        [0., 0., 9., 0., 0.]]),\n",
       " array([ 1., 10., 10.,  3.,  7.]),\n",
       " array([1., 5., 9., 3., 3.]))"
      ]
     },
     "execution_count": 12,
     "metadata": {},
     "output_type": "execute_result"
    }
   ],
   "source": [
    "# 1. Le max des Likes que chaque utilisateur a reçu (des utilisateurs autres que lui-même)\n",
    "H, H.sum(axis=0), H.max(axis=0)"
   ]
  },
  {
   "cell_type": "code",
   "execution_count": 13,
   "id": "bfa6795b",
   "metadata": {},
   "outputs": [
    {
     "data": {
      "text/plain": [
       "array([[0, 1],\n",
       "       [0, 4],\n",
       "       [2, 1],\n",
       "       [2, 4]], dtype=int64)"
      ]
     },
     "execution_count": 13,
     "metadata": {},
     "output_type": "execute_result"
    }
   ],
   "source": [
    "# 2. Les utilisateurs qui ont reçu des Likes pour tous leurs tweets au moins par une personne autre qu’elle\n",
    "Tweets = np.array([2, 5, 10, 4, 3])\n",
    "I = H == Tweets\n",
    "\n",
    "np.argwhere(H == Tweets)"
   ]
  },
  {
   "cell_type": "code",
   "execution_count": 14,
   "id": "9ce2b971",
   "metadata": {},
   "outputs": [
    {
     "data": {
      "text/plain": [
       "(array([3, 3, 3, 2, 4]), 15)"
      ]
     },
     "execution_count": 14,
     "metadata": {},
     "output_type": "execute_result"
    }
   ],
   "source": [
    "# 3. Le nombre des arcs entrants (ayant au moins une interaction)\n",
    "SumTotal = Reply + Like + Retweet\n",
    "Sum = (SumTotal > 0).astype(int)\n",
    "SumEntrants = Sum.sum(axis=0)\n",
    "SumEntrants, SumEntrants.sum()"
   ]
  },
  {
   "cell_type": "code",
   "execution_count": 15,
   "id": "d836d864",
   "metadata": {},
   "outputs": [
    {
     "data": {
      "text/plain": [
       "(array([4, 3, 3, 3, 2]), 15)"
      ]
     },
     "execution_count": 15,
     "metadata": {},
     "output_type": "execute_result"
    }
   ],
   "source": [
    "# 4. Le nombre des arcs sortants (qui ont fait au moins une interaction)\n",
    "SumSortants = Sum.sum(axis=1)\n",
    "SumSortants, SumSortants.sum()"
   ]
  },
  {
   "cell_type": "code",
   "execution_count": 16,
   "id": "87aafba9",
   "metadata": {},
   "outputs": [
    {
     "data": {
      "text/plain": [
       "array([[1],\n",
       "       [2]], dtype=int64)"
      ]
     },
     "execution_count": 16,
     "metadata": {},
     "output_type": "execute_result"
    }
   ],
   "source": [
    "# 5. Les nœuds où le nombre des arcs entrants est égale au nombre de ceux sortants\n",
    "np.argwhere(SumEntrants == SumSortants)"
   ]
  },
  {
   "cell_type": "code",
   "execution_count": 17,
   "id": "6804f894",
   "metadata": {},
   "outputs": [
    {
     "data": {
      "text/plain": [
       "array([[[0, 5]]])"
      ]
     },
     "execution_count": 17,
     "metadata": {},
     "output_type": "execute_result"
    }
   ],
   "source": [
    "# 6. Les Likes qu’ils ont fait entre eux\n",
    "indexes = np.argwhere(SumEntrants == SumSortants)\n",
    "Like[indexes].T[indexes].sum(axis=0)"
   ]
  },
  {
   "cell_type": "markdown",
   "id": "baf08b15",
   "metadata": {},
   "source": [
    "## Popularité "
   ]
  },
  {
   "cell_type": "code",
   "execution_count": 20,
   "id": "36192080",
   "metadata": {},
   "outputs": [
    {
     "data": {
      "text/plain": [
       "(array([[0., 5., 1., 0., 3.],\n",
       "        [0., 0., 0., 0., 0.],\n",
       "        [0., 5., 0., 3., 3.],\n",
       "        [1., 0., 0., 0., 1.],\n",
       "        [0., 0., 9., 0., 0.]]),\n",
       " array([[0., 5., 5., 0., 3.],\n",
       "        [2., 0., 5., 0., 3.],\n",
       "        [0., 0., 0., 0., 0.],\n",
       "        [2., 0., 0., 0., 0.],\n",
       "        [0., 4., 2., 0., 0.]]))"
      ]
     },
     "execution_count": 20,
     "metadata": {},
     "output_type": "execute_result"
    }
   ],
   "source": [
    "Like = Like - np.diag(D)\n",
    "Reply = Reply - np.diag((Reply * np.eye(5)).sum(axis=0))\n",
    "Like, Reply"
   ]
  },
  {
   "cell_type": "code",
   "execution_count": 36,
   "id": "49e888eb",
   "metadata": {},
   "outputs": [
    {
     "data": {
      "text/plain": [
       "(array([[ 2.  , -1.25,  1.  , -0.  , -0.75],\n",
       "        [ 0.  , -0.  ,  0.  , -0.  ,  0.  ],\n",
       "        [-0.  ,  5.  , -0.  ,  3.  ,  3.  ],\n",
       "        [ 1.  , -0.  , -0.  , -1.  ,  1.  ],\n",
       "        [-0.  ,  0.  ,  9.  , -0.  , -0.  ]]),\n",
       " array([[ 1. ,  5. , -2.5,  0. ,  3. ],\n",
       "        [-1. ,  0. , -2.5,  0. , -1.5],\n",
       "        [ 0. ,  0. ,  0. ,  0. ,  0. ],\n",
       "        [-1. ,  0. ,  0. ,  4. ,  0. ],\n",
       "        [ 0. , -2. ,  2. ,  0. ,  0. ]]))"
      ]
     },
     "execution_count": 36,
     "metadata": {},
     "output_type": "execute_result"
    }
   ],
   "source": [
    "# Score Reply\n",
    "Reply = np.where((Reply > Like), Reply*-0.5, Reply)\n",
    "Like = np.where((Reply == Like), Like*-0.25, Like)\n",
    "Like, Reply"
   ]
  },
  {
   "cell_type": "code",
   "execution_count": 37,
   "id": "7c25ab50",
   "metadata": {},
   "outputs": [
    {
     "data": {
      "text/plain": [
       "array([[ 0.,  2.,  4.,  0.,  0.],\n",
       "       [ 0.,  0.,  0.,  0.,  0.],\n",
       "       [ 0.,  0.,  0.,  0.,  0.],\n",
       "       [ 0.,  0.,  0., -1.,  3.],\n",
       "       [ 0.,  2.,  5.,  0.,  0.]])"
      ]
     },
     "execution_count": 37,
     "metadata": {},
     "output_type": "execute_result"
    }
   ],
   "source": [
    "# Score Retweet\n",
    "Diag = np.diag((Retweet * np.eye(5)).sum(axis=0))\n",
    "Retweet = Retweet - Diag + np.where((Diag > 0), Diag * -0.25, Diag)\n",
    "Retweet"
   ]
  },
  {
   "cell_type": "code",
   "execution_count": 40,
   "id": "bf44f97b",
   "metadata": {},
   "outputs": [
    {
     "data": {
      "text/plain": [
       "array([[ 2.  , -1.25,  1.  , -0.  , -0.75],\n",
       "       [ 0.  , -0.  ,  0.  , -0.  ,  0.  ],\n",
       "       [-0.  ,  5.  , -0.  ,  3.  ,  3.  ],\n",
       "       [ 1.  , -0.  , -0.  , -1.  ,  1.  ],\n",
       "       [-0.  ,  0.  ,  9.  , -0.  , -0.  ]])"
      ]
     },
     "execution_count": 40,
     "metadata": {},
     "output_type": "execute_result"
    }
   ],
   "source": [
    "# Score Likes\n",
    "TweetsNum = Tweets.sum()/2\n",
    "Like = np.where((Like > TweetsNum), Like*1.5, Like)\n",
    "Like"
   ]
  },
  {
   "cell_type": "code",
   "execution_count": 42,
   "id": "c3ee4314",
   "metadata": {},
   "outputs": [
    {
     "data": {
      "text/plain": [
       "1.66"
      ]
     },
     "execution_count": 42,
     "metadata": {},
     "output_type": "execute_result"
    }
   ],
   "source": [
    "# Score de popularité\n",
    "Score = Like + Retweet + Reply\n",
    "Score.mean()"
   ]
  }
 ],
 "metadata": {
  "kernelspec": {
   "display_name": "Python 3 (ipykernel)",
   "language": "python",
   "name": "python3"
  },
  "language_info": {
   "codemirror_mode": {
    "name": "ipython",
    "version": 3
   },
   "file_extension": ".py",
   "mimetype": "text/x-python",
   "name": "python",
   "nbconvert_exporter": "python",
   "pygments_lexer": "ipython3",
   "version": "3.9.7"
  }
 },
 "nbformat": 4,
 "nbformat_minor": 5
}
