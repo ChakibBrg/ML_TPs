{
 "cells": [
  {
   "cell_type": "markdown",
   "id": "64ff0eca",
   "metadata": {},
   "source": [
    "# 2CSSID-TP01. Préparation de données\n",
    "\n",
    "---\n",
    "\n",
    "Dans ce TP, nous allons apprendre quelques méthodes de préparation de données.\n",
    "Nous allons, premierement, implémenter quelques méthodes en utilisant numpy.\n",
    "Ensuite, nous allons utiliser un API plus avancé pour apprendre dans quelle situation ses méthodes sont utilisées."
   ]
  },
  {
   "cell_type": "markdown",
   "id": "3d47e3d1",
   "metadata": {},
   "source": [
    "- **Binome 01** : Bourzag Mohamed Chakib\n",
    "- **Binome 02** : Tirichine Mohammed\n",
    "- **Groupe** : Il n'y a qu'un groupe => info inutile"
   ]
  },
  {
   "cell_type": "code",
   "execution_count": 1,
   "id": "7e9c5947",
   "metadata": {},
   "outputs": [],
   "source": [
    "import numpy  as np\n",
    "import pandas as pd\n",
    "import matplotlib.pyplot as plt\n",
    "%matplotlib inline"
   ]
  },
  {
   "cell_type": "code",
   "execution_count": 2,
   "id": "38726b10",
   "metadata": {},
   "outputs": [],
   "source": [
    "from typing import Tuple"
   ]
  },
  {
   "cell_type": "markdown",
   "id": "e3118323",
   "metadata": {},
   "source": [
    "## I. Réalisation des algorithmes\n",
    "\n",
    "Cette partie sert à améliorer la compréhension des algorithmes de préparation de données vus en cours en les implémentant à partir de zéro. \n",
    "Pour ce faire, nous allons utiliser la bibliothèque numpy qui est utile dans les calcules surtout matricielles.\n",
    "\n",
    "### I.1. Normalisation\n",
    "\n",
    "Ici, nous allons réaliser les deux fonctions de nomalisation : standard et min-max.\n",
    "Nous allons prendre une matrice $X[N, M]$ de $N$ échantillons et $M$ colonnes.\n",
    "La normalisation standard d'une colonne $j$ peut être décrite comme : \n",
    "$$standard(X_j) = \\frac{X_j - \\mu(X_j)}{\\sigma(X_j)}$$\n",
    "La nomalisation min-max d'une colonne $j$ peut être décrite comme : \n",
    "$$minmax(X_j) = \\frac{X_j - min(X_j)}{max(X_j) - min(X_j)}$$\n"
   ]
  },
  {
   "cell_type": "code",
   "execution_count": 3,
   "id": "4e80e66e",
   "metadata": {},
   "outputs": [
    {
     "data": {
      "text/plain": [
       "(array([4. , 3. , 0.5]),\n",
       " array([1.87082869, 2.        , 0.5       ]),\n",
       " array([[ 1.60356745,  1.        , -1.        ],\n",
       "        [-1.06904497, -1.        ,  1.        ],\n",
       "        [-0.53452248,  1.        , -1.        ],\n",
       "        [ 0.        , -1.        ,  1.        ]]))"
      ]
     },
     "execution_count": 3,
     "metadata": {},
     "output_type": "execute_result"
    }
   ],
   "source": [
    "# TODO: Standardisation d'une matrice\n",
    "# Entrée : la matrice des données (N échantillons X  M caractéristiques)\n",
    "# Sortie : vecteur de M moyennes, vecteur de M écart-types, une matrice normalisée\n",
    "def norm_std(X: np.ndarray) -> Tuple[np.ndarray, np.ndarray, np.ndarray]:\n",
    "    moy   = X.mean(axis=0)\n",
    "    std   = X.std(axis=0)\n",
    "    X_new = (X - moy)/std\n",
    "    return moy, std, X_new\n",
    "\n",
    "\n",
    "#=====================================================================\n",
    "# TEST UNITAIRE\n",
    "#=====================================================================\n",
    "# (array([4. , 3. , 0.5]),\n",
    "#  array([1.87082869, 2.        , 0.5       ]),\n",
    "#  array([[ 1.60356745,  1.        , -1.        ],\n",
    "#         [-1.06904497, -1.        ,  1.        ],\n",
    "#         [-0.53452248,  1.        , -1.        ],\n",
    "#         [ 0.        , -1.        ,  1.        ]]))\n",
    "#---------------------------------------------------------------------\n",
    "\n",
    "X = np.array([\n",
    "    [7, 5, 0],\n",
    "    [2, 1, 1],\n",
    "    [3, 5, 0],\n",
    "    [4, 1, 1],\n",
    "])\n",
    "\n",
    "norm_std(X)"
   ]
  },
  {
   "cell_type": "code",
   "execution_count": 4,
   "id": "82371ce8",
   "metadata": {},
   "outputs": [
    {
     "data": {
      "text/plain": [
       "(array([7, 5, 1]),\n",
       " array([2, 1, 0]),\n",
       " array([[1. , 1. , 0. ],\n",
       "        [0. , 0. , 1. ],\n",
       "        [0.2, 1. , 0. ],\n",
       "        [0.4, 0. , 1. ]]))"
      ]
     },
     "execution_count": 4,
     "metadata": {},
     "output_type": "execute_result"
    }
   ],
   "source": [
    "# TODO: Normalisation min-max d'une matrice\n",
    "# Entrée : la matrice des données (N échantillons X  M caractéristiques)\n",
    "# Sortie : vecteur de M max, vecteur de M min, une matrice normalisée\n",
    "def norm_minmax(X: np.ndarray) -> Tuple[np.ndarray, np.ndarray, np.ndarray]:\n",
    "    mx    = X.max(axis=0)\n",
    "    mn    = X.min(axis=0)\n",
    "    X_new = (X - mn) / (mx-mn)\n",
    "    return mx, mn, X_new\n",
    "\n",
    "#=====================================================================\n",
    "# TEST UNITAIRE\n",
    "#=====================================================================\n",
    "# (array([7, 5, 1]),\n",
    "#  array([2, 1, 0]),\n",
    "#  array([[1. , 1. , 0. ],\n",
    "#         [0. , 0. , 1. ],\n",
    "#         [0.2, 1. , 0. ],\n",
    "#         [0.4, 0. , 1. ]]))\n",
    "#---------------------------------------------------------------------\n",
    "\n",
    "X = np.array([\n",
    "    [7, 5, 0],\n",
    "    [2, 1, 1],\n",
    "    [3, 5, 0],\n",
    "    [4, 1, 1],\n",
    "])\n",
    "\n",
    "norm_minmax(X)"
   ]
  },
  {
   "cell_type": "markdown",
   "id": "65c342e5",
   "metadata": {},
   "source": [
    "### I.2. Encodage One-Hot\n",
    "\n",
    "Etant donné un vecteur $A[N]$ représentant une caractéristique nominale donnée, on veut encoder les valeurs en utilisant One-Hot. Pour faciliter la tâche, on vous donne l'algorithme détaillé : \n",
    "1. Trouver les valeurs uniques dans le vecteur $A$ ; on appele ça : un vocabulaire $V$\n",
    "1. Créer une matrice $X[N, |V|]$ en recopiant le vecteur $V$ $N$ fois. Dans python, on peut recopier un vecteur en utilisant l'instruction : [V] * N\n",
    "1. Comparer l'égalité entre chaque ligne de $A$ et chaque ligne (qui est un vecteur) de $X$.\n",
    "1. Transformer les booléens vers des entiers"
   ]
  },
  {
   "cell_type": "code",
   "execution_count": 5,
   "id": "fa61401a",
   "metadata": {},
   "outputs": [
    {
     "data": {
      "text/plain": [
       "(array(['COLD', 'HOT', 'MILD'], dtype='<U4'),\n",
       " array([[0, 1, 0],\n",
       "        [0, 0, 1],\n",
       "        [1, 0, 0],\n",
       "        [0, 1, 0],\n",
       "        [0, 0, 1]]))"
      ]
     },
     "execution_count": 5,
     "metadata": {},
     "output_type": "execute_result"
    }
   ],
   "source": [
    "# TODO: Encodage One-Hot\n",
    "# Entrée : un vecteur d'une caractéristique (N échantillons)\n",
    "# Sortie : vecteur du vocabulaire V, matrice N X |V|\n",
    "def one_hot(A: np.ndarray) -> Tuple[np.ndarray, np.ndarray]:\n",
    "    V = np.unique(A)\n",
    "    X = (np.array([V]*A.shape[0]) == A.reshape(-1,1)).astype(int)\n",
    "    return V, X\n",
    "\n",
    "#=====================================================================\n",
    "# TEST UNITAIRE\n",
    "#=====================================================================\n",
    "# (array(['COLD', 'HOT', 'MILD'], dtype='<U4'),\n",
    "#  array([[0, 1, 0],\n",
    "#         [0, 0, 1],\n",
    "#         [1, 0, 0],\n",
    "#         [0, 1, 0],\n",
    "#         [0, 0, 1]]))\n",
    "#---------------------------------------------------------------------\n",
    "\n",
    "A = np.array(['HOT', 'MILD', 'COLD', 'HOT', 'MILD'])\n",
    "one_hot(A)"
   ]
  },
  {
   "cell_type": "markdown",
   "id": "829514ed",
   "metadata": {},
   "source": [
    "### I.3. Binarisation\n",
    "\n",
    "Etant donné un vecteur $A[N]$ représentant une caractéristique numérique donnée, on veut encoder les valeurs en 0 ou 1 selon un seuil $s$.\n",
    "La binarization d'un élément $A_i$ est donnée par :\n",
    "$$A_i' = \\begin{cases}\n",
    "1 & \\text{si } A_i \\ge s\\\\\n",
    "0 & \\text{sinon}\\\\\n",
    "\\end{cases}$$"
   ]
  },
  {
   "cell_type": "code",
   "execution_count": 6,
   "id": "38db2cf8",
   "metadata": {},
   "outputs": [
    {
     "data": {
      "text/plain": [
       "array([1, 0, 0, 0, 1, 1])"
      ]
     },
     "execution_count": 6,
     "metadata": {},
     "output_type": "execute_result"
    }
   ],
   "source": [
    "# TODO: Binarisation\n",
    "# Entrée : un vecteur d'une caractéristique (N échantillons), un seuil de binarisation\n",
    "# Sortie : un vecteur binarisé (N échantillons)\n",
    "def bin(A: np.ndarray, seuil: float) -> np.ndarray:\n",
    "    return (A >= seuil).astype(int)\n",
    "\n",
    "#=====================================================================\n",
    "# TEST UNITAIRE\n",
    "#=====================================================================\n",
    "# array([1, 0, 0, 0, 1, 1])\n",
    "#---------------------------------------------------------------------\n",
    "\n",
    "A = np.array([5, 2, 1, -1, 6, 4])\n",
    "\n",
    "bin(A, 4)"
   ]
  },
  {
   "cell_type": "markdown",
   "id": "e8826182",
   "metadata": {},
   "source": [
    "### I.4. Analyse en composantes principales (ACP)\n",
    "\n",
    "Algorithme:\n",
    "1. Centrer et réduire les données (Standardisation) (X) pour avoir (X_std).\n",
    "1. Calculer la matrice de covariance (X_cov) en se basant sur (X_std).\n",
    "1. Calculer les valeurs propres (val_prop) et les vecteurs propres (vec_prop) de (X_cov). \n",
    "1. Ordonner les valeurs propres d'une maniere descendante et selon cette ordre, ordonner les vecteurs propres\n",
    "1. Garder seulement les nbr_comp vecteurs propres premiers pour former le vecteur caracteristique (vec_car) \n",
    "1. Transformer les donnees $X\\_reduit = (vec\\_car^T \\cdot X\\_std^T)^T$"
   ]
  },
  {
   "cell_type": "code",
   "execution_count": 7,
   "id": "62dd8b68",
   "metadata": {},
   "outputs": [
    {
     "data": {
      "text/plain": [
       "array([[-2.00488333, -0.74288047],\n",
       "       [ 1.75181002,  0.27206396],\n",
       "       [-0.99259008,  1.14038556],\n",
       "       [ 1.24566339, -0.66956905]])"
      ]
     },
     "execution_count": 7,
     "metadata": {},
     "output_type": "execute_result"
    }
   ],
   "source": [
    "# TODO: ACP\n",
    "# Entrée : la matrice des données (N échantillons X  M caractéristiques), nombre de composantes: nbr_comp\n",
    "# Sortie : une matrice reduite (N échantillons X nbr_comp caractéristiques)\n",
    "def ACP(X: 'np.array[M, N]', nbr_comp: int) -> 'np.array[M, nbr_comp]':\n",
    "    \n",
    "    # 1. Centrer et reduire les donnees\n",
    "    X_std = norm_std(X)[2]\n",
    "     \n",
    "    # 2. matrice de covariance (X_cov)\n",
    "    X_cov = np.cov(X_std, rowvar=False)\n",
    "     \n",
    "    # 3. valeurs propres et vecteurs propres\n",
    "    val_prop, vec_prop = np.linalg.eigh(X_cov)   # Déjà générés ordonnés croissants\n",
    "     \n",
    "    # 4. Ordonner vec_prop selon l'ordre descendant de val_prop\n",
    "    \n",
    "    idx = np.argsort(val_prop)[::-1]\n",
    "    vec_ord = vec_prop[:,idx]\n",
    "     \n",
    "    # 5. creer le vecteur caracteristique\n",
    "    vec_car = vec_ord[:, :nbr_comp]\n",
    "     \n",
    "    # 6. Transformer les donnees\n",
    "    X_reduit = np.matmul(X_std, vec_car)\n",
    "     \n",
    "    return X_reduit\n",
    "\n",
    "#=====================================================================\n",
    "# TEST UNITAIRE\n",
    "#=====================================================================\n",
    "# array([[-2.00488333, -0.74288047],\n",
    "#        [ 1.75181002,  0.27206396],\n",
    "#        [-0.99259008,  1.14038556],\n",
    "#        [ 1.24566339, -0.66956905]])\n",
    "#---------------------------------------------------------------------\n",
    "\n",
    "X = np.array([\n",
    "    [7, 5, 0],\n",
    "    [2, 1, 1],\n",
    "    [3, 5, 0],\n",
    "    [4, 1, 1],\n",
    "])\n",
    "\n",
    "ACP(X, 2)"
   ]
  },
  {
   "cell_type": "markdown",
   "id": "308a1df5",
   "metadata": {},
   "source": [
    "## II. Application et analyse\n",
    "\n",
    "Cette partie sert à appliquer les algorithmes, modifier les paramètres et analyser les résultats.\n",
    "\n",
    "**Aucune programmation n'est demandee. Vous pouvez changer le code pour tester ou analyser les resultats sans executer**\n",
    "\n",
    "### II.1. Lecture des données\n",
    "\n",
    "Nous allons lire 4 fichiers : \n",
    "- un fichier CSV avec des colonnes séparées par des virgules ;\n",
    "- un fichier CSV avec des colonnes séparées par des point-virgules ;\n",
    "- un fichier Sqlite ;\n",
    "- un fichier XML."
   ]
  },
  {
   "cell_type": "code",
   "execution_count": 8,
   "id": "e67db19a",
   "metadata": {},
   "outputs": [
    {
     "name": "stdout",
     "output_type": "stream",
     "text": [
      "50\n"
     ]
    },
    {
     "data": {
      "text/html": [
       "<div>\n",
       "<style scoped>\n",
       "    .dataframe tbody tr th:only-of-type {\n",
       "        vertical-align: middle;\n",
       "    }\n",
       "\n",
       "    .dataframe tbody tr th {\n",
       "        vertical-align: top;\n",
       "    }\n",
       "\n",
       "    .dataframe thead th {\n",
       "        text-align: right;\n",
       "    }\n",
       "</style>\n",
       "<table border=\"1\" class=\"dataframe\">\n",
       "  <thead>\n",
       "    <tr style=\"text-align: right;\">\n",
       "      <th></th>\n",
       "      <th>age</th>\n",
       "      <th>workclass</th>\n",
       "      <th>education</th>\n",
       "      <th>Marital-status</th>\n",
       "      <th>occupation</th>\n",
       "      <th>sex</th>\n",
       "      <th>Hours-per-week</th>\n",
       "      <th>class</th>\n",
       "    </tr>\n",
       "  </thead>\n",
       "  <tbody>\n",
       "    <tr>\n",
       "      <th>0</th>\n",
       "      <td>39.0</td>\n",
       "      <td>State-gov</td>\n",
       "      <td>Bachelors</td>\n",
       "      <td>Never-married</td>\n",
       "      <td>Adm-clerical</td>\n",
       "      <td>Male</td>\n",
       "      <td>40</td>\n",
       "      <td>&lt;=50K</td>\n",
       "    </tr>\n",
       "    <tr>\n",
       "      <th>1</th>\n",
       "      <td>50.0</td>\n",
       "      <td>Self-emp-not-inc</td>\n",
       "      <td>Bachelors</td>\n",
       "      <td>Married-civ-spouse</td>\n",
       "      <td>Exec-managerial</td>\n",
       "      <td>Male</td>\n",
       "      <td>13</td>\n",
       "      <td>&lt;=50K</td>\n",
       "    </tr>\n",
       "    <tr>\n",
       "      <th>2</th>\n",
       "      <td>38.0</td>\n",
       "      <td>Private</td>\n",
       "      <td>HS-grad</td>\n",
       "      <td>Divorced</td>\n",
       "      <td>Handlers-cleaners</td>\n",
       "      <td>Male</td>\n",
       "      <td>40</td>\n",
       "      <td>&lt;=50K</td>\n",
       "    </tr>\n",
       "    <tr>\n",
       "      <th>3</th>\n",
       "      <td>53.0</td>\n",
       "      <td>Private</td>\n",
       "      <td>11th</td>\n",
       "      <td>NaN</td>\n",
       "      <td>Handlers-cleaners</td>\n",
       "      <td>Male</td>\n",
       "      <td>40</td>\n",
       "      <td>&lt;=50K</td>\n",
       "    </tr>\n",
       "    <tr>\n",
       "      <th>4</th>\n",
       "      <td>28.0</td>\n",
       "      <td>Private</td>\n",
       "      <td>Bachelors</td>\n",
       "      <td>Married-civ-spouse</td>\n",
       "      <td>Prof-specialty</td>\n",
       "      <td>Female</td>\n",
       "      <td>40</td>\n",
       "      <td>&lt;=50K</td>\n",
       "    </tr>\n",
       "    <tr>\n",
       "      <th>5</th>\n",
       "      <td>37.0</td>\n",
       "      <td>Private</td>\n",
       "      <td>Masters</td>\n",
       "      <td>Married-civ-spouse</td>\n",
       "      <td>Exec-managerial</td>\n",
       "      <td>Female</td>\n",
       "      <td>40</td>\n",
       "      <td>&lt;=50K</td>\n",
       "    </tr>\n",
       "    <tr>\n",
       "      <th>6</th>\n",
       "      <td>49.0</td>\n",
       "      <td>Private</td>\n",
       "      <td>9th</td>\n",
       "      <td>Married-spouse-absent</td>\n",
       "      <td>Other-service</td>\n",
       "      <td>Female</td>\n",
       "      <td>16</td>\n",
       "      <td>&lt;=50K</td>\n",
       "    </tr>\n",
       "    <tr>\n",
       "      <th>7</th>\n",
       "      <td>52.0</td>\n",
       "      <td>Self-emp-not-inc</td>\n",
       "      <td>HS-grad</td>\n",
       "      <td>Married-civ-spouse</td>\n",
       "      <td>Exec-managerial</td>\n",
       "      <td>Male</td>\n",
       "      <td>45</td>\n",
       "      <td>&gt;50K</td>\n",
       "    </tr>\n",
       "    <tr>\n",
       "      <th>8</th>\n",
       "      <td>31.0</td>\n",
       "      <td>Private</td>\n",
       "      <td>Masters</td>\n",
       "      <td>Never-married</td>\n",
       "      <td>Prof-specialty</td>\n",
       "      <td>Female</td>\n",
       "      <td>50</td>\n",
       "      <td>&gt;50K</td>\n",
       "    </tr>\n",
       "    <tr>\n",
       "      <th>9</th>\n",
       "      <td>42.0</td>\n",
       "      <td>Private</td>\n",
       "      <td>Bachelors</td>\n",
       "      <td>Married-civ-spouse</td>\n",
       "      <td>Exec-managerial</td>\n",
       "      <td>Male</td>\n",
       "      <td>40</td>\n",
       "      <td>&gt;50K</td>\n",
       "    </tr>\n",
       "  </tbody>\n",
       "</table>\n",
       "</div>"
      ],
      "text/plain": [
       "    age         workclass  education         Marital-status  \\\n",
       "0  39.0         State-gov  Bachelors          Never-married   \n",
       "1  50.0  Self-emp-not-inc  Bachelors     Married-civ-spouse   \n",
       "2  38.0           Private    HS-grad               Divorced   \n",
       "3  53.0           Private       11th                    NaN   \n",
       "4  28.0           Private  Bachelors     Married-civ-spouse   \n",
       "5  37.0           Private    Masters     Married-civ-spouse   \n",
       "6  49.0           Private        9th  Married-spouse-absent   \n",
       "7  52.0  Self-emp-not-inc    HS-grad     Married-civ-spouse   \n",
       "8  31.0           Private    Masters          Never-married   \n",
       "9  42.0           Private  Bachelors     Married-civ-spouse   \n",
       "\n",
       "          occupation     sex  Hours-per-week  class  \n",
       "0       Adm-clerical    Male              40  <=50K  \n",
       "1    Exec-managerial    Male              13  <=50K  \n",
       "2  Handlers-cleaners    Male              40  <=50K  \n",
       "3  Handlers-cleaners    Male              40  <=50K  \n",
       "4     Prof-specialty  Female              40  <=50K  \n",
       "5    Exec-managerial  Female              40  <=50K  \n",
       "6      Other-service  Female              16  <=50K  \n",
       "7    Exec-managerial    Male              45   >50K  \n",
       "8     Prof-specialty  Female              50   >50K  \n",
       "9    Exec-managerial    Male              40   >50K  "
      ]
     },
     "execution_count": 8,
     "metadata": {},
     "output_type": "execute_result"
    }
   ],
   "source": [
    "adult1 = pd.read_csv('data/adult1.csv', skipinitialspace=True)\n",
    "print(len(adult1))\n",
    "adult1.head(10)"
   ]
  },
  {
   "cell_type": "code",
   "execution_count": 9,
   "id": "890485a8",
   "metadata": {},
   "outputs": [
    {
     "name": "stdout",
     "output_type": "stream",
     "text": [
      "50\n"
     ]
    },
    {
     "data": {
      "text/html": [
       "<div>\n",
       "<style scoped>\n",
       "    .dataframe tbody tr th:only-of-type {\n",
       "        vertical-align: middle;\n",
       "    }\n",
       "\n",
       "    .dataframe tbody tr th {\n",
       "        vertical-align: top;\n",
       "    }\n",
       "\n",
       "    .dataframe thead th {\n",
       "        text-align: right;\n",
       "    }\n",
       "</style>\n",
       "<table border=\"1\" class=\"dataframe\">\n",
       "  <thead>\n",
       "    <tr style=\"text-align: right;\">\n",
       "      <th></th>\n",
       "      <th>class</th>\n",
       "      <th>age</th>\n",
       "      <th>sex</th>\n",
       "      <th>workclass</th>\n",
       "      <th>education</th>\n",
       "      <th>hours-per-week</th>\n",
       "      <th>marital-status</th>\n",
       "    </tr>\n",
       "  </thead>\n",
       "  <tbody>\n",
       "    <tr>\n",
       "      <th>0</th>\n",
       "      <td>N</td>\n",
       "      <td>25</td>\n",
       "      <td>F</td>\n",
       "      <td>Private</td>\n",
       "      <td>Some-college</td>\n",
       "      <td>40</td>\n",
       "      <td>Married-civ-spouse</td>\n",
       "    </tr>\n",
       "    <tr>\n",
       "      <th>1</th>\n",
       "      <td>N</td>\n",
       "      <td>18</td>\n",
       "      <td>F</td>\n",
       "      <td>Private</td>\n",
       "      <td>HS-grad</td>\n",
       "      <td>30</td>\n",
       "      <td>Never-married</td>\n",
       "    </tr>\n",
       "    <tr>\n",
       "      <th>2</th>\n",
       "      <td>Y</td>\n",
       "      <td>47</td>\n",
       "      <td>F</td>\n",
       "      <td>Private, Prof-school</td>\n",
       "      <td>60</td>\n",
       "      <td>Married-civ-spouse</td>\n",
       "      <td>NaN</td>\n",
       "    </tr>\n",
       "    <tr>\n",
       "      <th>3</th>\n",
       "      <td>Y</td>\n",
       "      <td>50</td>\n",
       "      <td>M</td>\n",
       "      <td>Federal-gov</td>\n",
       "      <td>Bachelors</td>\n",
       "      <td>55</td>\n",
       "      <td>Divorced</td>\n",
       "    </tr>\n",
       "    <tr>\n",
       "      <th>4</th>\n",
       "      <td>N</td>\n",
       "      <td>47</td>\n",
       "      <td>M</td>\n",
       "      <td>Self-emp-inc</td>\n",
       "      <td>HS-grad</td>\n",
       "      <td>60</td>\n",
       "      <td>Divorced</td>\n",
       "    </tr>\n",
       "    <tr>\n",
       "      <th>5</th>\n",
       "      <td>Y</td>\n",
       "      <td>43</td>\n",
       "      <td>M</td>\n",
       "      <td>Private</td>\n",
       "      <td>Some-college</td>\n",
       "      <td>40</td>\n",
       "      <td>Married-civ-spouse</td>\n",
       "    </tr>\n",
       "    <tr>\n",
       "      <th>6</th>\n",
       "      <td>N</td>\n",
       "      <td>46</td>\n",
       "      <td>M</td>\n",
       "      <td>Private</td>\n",
       "      <td>5th-6th</td>\n",
       "      <td>40</td>\n",
       "      <td>Married-civ-spouse</td>\n",
       "    </tr>\n",
       "    <tr>\n",
       "      <th>7</th>\n",
       "      <td>N</td>\n",
       "      <td>35</td>\n",
       "      <td>M</td>\n",
       "      <td>Private</td>\n",
       "      <td>Assoc-voc</td>\n",
       "      <td>40</td>\n",
       "      <td>Married-civ-spouse</td>\n",
       "    </tr>\n",
       "    <tr>\n",
       "      <th>8</th>\n",
       "      <td>N</td>\n",
       "      <td>41</td>\n",
       "      <td>M</td>\n",
       "      <td>Private</td>\n",
       "      <td>HS-grad</td>\n",
       "      <td>48</td>\n",
       "      <td>Married-civ-spouse</td>\n",
       "    </tr>\n",
       "    <tr>\n",
       "      <th>9</th>\n",
       "      <td>N,30</td>\n",
       "      <td>M</td>\n",
       "      <td>Private, HS-grad</td>\n",
       "      <td>40</td>\n",
       "      <td>Married-civ-spouse</td>\n",
       "      <td>NaN</td>\n",
       "      <td>NaN</td>\n",
       "    </tr>\n",
       "  </tbody>\n",
       "</table>\n",
       "</div>"
      ],
      "text/plain": [
       "  class age               sex             workclass           education  \\\n",
       "0     N  25                 F               Private        Some-college   \n",
       "1     N  18                 F               Private             HS-grad   \n",
       "2     Y  47                 F  Private, Prof-school                  60   \n",
       "3     Y  50                 M           Federal-gov           Bachelors   \n",
       "4     N  47                 M          Self-emp-inc             HS-grad   \n",
       "5     Y  43                 M               Private        Some-college   \n",
       "6     N  46                 M               Private             5th-6th   \n",
       "7     N  35                 M               Private           Assoc-voc   \n",
       "8     N  41                 M               Private             HS-grad   \n",
       "9  N,30   M  Private, HS-grad                    40  Married-civ-spouse   \n",
       "\n",
       "       hours-per-week      marital-status  \n",
       "0                  40  Married-civ-spouse  \n",
       "1                  30       Never-married  \n",
       "2  Married-civ-spouse                 NaN  \n",
       "3                  55            Divorced  \n",
       "4                  60            Divorced  \n",
       "5                  40  Married-civ-spouse  \n",
       "6                  40  Married-civ-spouse  \n",
       "7                  40  Married-civ-spouse  \n",
       "8                  48  Married-civ-spouse  \n",
       "9                 NaN                 NaN  "
      ]
     },
     "execution_count": 9,
     "metadata": {},
     "output_type": "execute_result"
    }
   ],
   "source": [
    "noms = ['class', 'age', 'sex', 'workclass', 'education', 'hours-per-week', 'marital-status']\n",
    "adult2 = pd.read_csv('data/adult2.csv', skipinitialspace=True, sep=';', header=None, names=noms)\n",
    "print(len(adult2))\n",
    "adult2.head(10)"
   ]
  },
  {
   "cell_type": "code",
   "execution_count": 10,
   "id": "af026330",
   "metadata": {},
   "outputs": [
    {
     "name": "stdout",
     "output_type": "stream",
     "text": [
      "50\n"
     ]
    },
    {
     "data": {
      "text/html": [
       "<div>\n",
       "<style scoped>\n",
       "    .dataframe tbody tr th:only-of-type {\n",
       "        vertical-align: middle;\n",
       "    }\n",
       "\n",
       "    .dataframe tbody tr th {\n",
       "        vertical-align: top;\n",
       "    }\n",
       "\n",
       "    .dataframe thead th {\n",
       "        text-align: right;\n",
       "    }\n",
       "</style>\n",
       "<table border=\"1\" class=\"dataframe\">\n",
       "  <thead>\n",
       "    <tr style=\"text-align: right;\">\n",
       "      <th></th>\n",
       "      <th>num</th>\n",
       "      <th>age</th>\n",
       "      <th>workclass</th>\n",
       "      <th>education</th>\n",
       "      <th>marital-status</th>\n",
       "      <th>sex</th>\n",
       "      <th>hours-per-day</th>\n",
       "      <th>class</th>\n",
       "    </tr>\n",
       "  </thead>\n",
       "  <tbody>\n",
       "    <tr>\n",
       "      <th>0</th>\n",
       "      <td>1</td>\n",
       "      <td>76</td>\n",
       "      <td>Private</td>\n",
       "      <td>Masters</td>\n",
       "      <td>married</td>\n",
       "      <td>M</td>\n",
       "      <td>8.0</td>\n",
       "      <td>Y</td>\n",
       "    </tr>\n",
       "    <tr>\n",
       "      <th>1</th>\n",
       "      <td>2</td>\n",
       "      <td>44</td>\n",
       "      <td>Private</td>\n",
       "      <td>Bachelors</td>\n",
       "      <td>married</td>\n",
       "      <td>M</td>\n",
       "      <td>12.0</td>\n",
       "      <td>Y</td>\n",
       "    </tr>\n",
       "    <tr>\n",
       "      <th>2</th>\n",
       "      <td>3</td>\n",
       "      <td>47</td>\n",
       "      <td>Self-emp-not-inc</td>\n",
       "      <td>Masters</td>\n",
       "      <td>single</td>\n",
       "      <td>F</td>\n",
       "      <td>10.0</td>\n",
       "      <td>N</td>\n",
       "    </tr>\n",
       "    <tr>\n",
       "      <th>3</th>\n",
       "      <td>4</td>\n",
       "      <td>20</td>\n",
       "      <td>Private</td>\n",
       "      <td>Some-college</td>\n",
       "      <td>single</td>\n",
       "      <td>F</td>\n",
       "      <td>8.0</td>\n",
       "      <td>N</td>\n",
       "    </tr>\n",
       "    <tr>\n",
       "      <th>4</th>\n",
       "      <td>5</td>\n",
       "      <td>29</td>\n",
       "      <td>Private</td>\n",
       "      <td>HS-grad</td>\n",
       "      <td>single</td>\n",
       "      <td>M</td>\n",
       "      <td>8.0</td>\n",
       "      <td>N</td>\n",
       "    </tr>\n",
       "    <tr>\n",
       "      <th>5</th>\n",
       "      <td>6</td>\n",
       "      <td>32</td>\n",
       "      <td>Self-emp-inc</td>\n",
       "      <td>HS-grad</td>\n",
       "      <td>married</td>\n",
       "      <td>M</td>\n",
       "      <td>8.0</td>\n",
       "      <td>Y</td>\n",
       "    </tr>\n",
       "    <tr>\n",
       "      <th>6</th>\n",
       "      <td>7</td>\n",
       "      <td>17</td>\n",
       "      <td>NaN</td>\n",
       "      <td>10th</td>\n",
       "      <td>single</td>\n",
       "      <td>F</td>\n",
       "      <td>6.4</td>\n",
       "      <td>N</td>\n",
       "    </tr>\n",
       "    <tr>\n",
       "      <th>7</th>\n",
       "      <td>8</td>\n",
       "      <td>30</td>\n",
       "      <td>Private</td>\n",
       "      <td>11th</td>\n",
       "      <td>single</td>\n",
       "      <td>M</td>\n",
       "      <td>8.0</td>\n",
       "      <td>N</td>\n",
       "    </tr>\n",
       "    <tr>\n",
       "      <th>8</th>\n",
       "      <td>9</td>\n",
       "      <td>31</td>\n",
       "      <td>Local-gov</td>\n",
       "      <td>HS-grad</td>\n",
       "      <td>single</td>\n",
       "      <td>F</td>\n",
       "      <td>8.0</td>\n",
       "      <td>N</td>\n",
       "    </tr>\n",
       "    <tr>\n",
       "      <th>9</th>\n",
       "      <td>10</td>\n",
       "      <td>42</td>\n",
       "      <td>Private</td>\n",
       "      <td>HS-grad</td>\n",
       "      <td>married</td>\n",
       "      <td>M</td>\n",
       "      <td>8.0</td>\n",
       "      <td>N</td>\n",
       "    </tr>\n",
       "  </tbody>\n",
       "</table>\n",
       "</div>"
      ],
      "text/plain": [
       "   num  age         workclass     education marital-status sex  hours-per-day  \\\n",
       "0    1   76           Private       Masters        married   M            8.0   \n",
       "1    2   44           Private     Bachelors        married   M           12.0   \n",
       "2    3   47  Self-emp-not-inc       Masters         single   F           10.0   \n",
       "3    4   20           Private  Some-college         single   F            8.0   \n",
       "4    5   29           Private       HS-grad         single   M            8.0   \n",
       "5    6   32      Self-emp-inc       HS-grad        married   M            8.0   \n",
       "6    7   17               NaN          10th         single   F            6.4   \n",
       "7    8   30           Private          11th         single   M            8.0   \n",
       "8    9   31         Local-gov       HS-grad         single   F            8.0   \n",
       "9   10   42           Private       HS-grad        married   M            8.0   \n",
       "\n",
       "  class  \n",
       "0     Y  \n",
       "1     Y  \n",
       "2     N  \n",
       "3     N  \n",
       "4     N  \n",
       "5     Y  \n",
       "6     N  \n",
       "7     N  \n",
       "8     N  \n",
       "9     N  "
      ]
     },
     "execution_count": 10,
     "metadata": {},
     "output_type": "execute_result"
    }
   ],
   "source": [
    "import sqlite3\n",
    "# établir la connexion avec la base de données\n",
    "con = sqlite3.connect('data/adult3.db')\n",
    "# récupérer le résultat d'une réquête SQL sur cette connexion\n",
    "adult3 = pd.read_sql_query('SELECT * FROM income', con)\n",
    "\n",
    "#remplacer les valeurs \"?\" par NaN de numpy\n",
    "adult3 = adult3.replace('?', np.nan)\n",
    "\n",
    "print(len(adult3))\n",
    "adult3.head(10)"
   ]
  },
  {
   "cell_type": "code",
   "execution_count": 11,
   "id": "7095cb63",
   "metadata": {},
   "outputs": [
    {
     "name": "stdout",
     "output_type": "stream",
     "text": [
      "Requirement already satisfied: lxml in c:\\users\\bourz\\anaconda3\\lib\\site-packages (4.6.3)\n"
     ]
    }
   ],
   "source": [
    "!pip install lxml"
   ]
  },
  {
   "cell_type": "code",
   "execution_count": 12,
   "id": "45b43b42",
   "metadata": {},
   "outputs": [
    {
     "name": "stdout",
     "output_type": "stream",
     "text": [
      "50\n"
     ]
    },
    {
     "data": {
      "text/html": [
       "<div>\n",
       "<style scoped>\n",
       "    .dataframe tbody tr th:only-of-type {\n",
       "        vertical-align: middle;\n",
       "    }\n",
       "\n",
       "    .dataframe tbody tr th {\n",
       "        vertical-align: top;\n",
       "    }\n",
       "\n",
       "    .dataframe thead th {\n",
       "        text-align: right;\n",
       "    }\n",
       "</style>\n",
       "<table border=\"1\" class=\"dataframe\">\n",
       "  <thead>\n",
       "    <tr style=\"text-align: right;\">\n",
       "      <th></th>\n",
       "      <th>id</th>\n",
       "      <th>age</th>\n",
       "      <th>workclass</th>\n",
       "      <th>education</th>\n",
       "      <th>marital-status</th>\n",
       "      <th>sex</th>\n",
       "      <th>hours-per-week</th>\n",
       "      <th>class</th>\n",
       "    </tr>\n",
       "  </thead>\n",
       "  <tbody>\n",
       "    <tr>\n",
       "      <th>0</th>\n",
       "      <td>52</td>\n",
       "      <td>47</td>\n",
       "      <td>Local-gov</td>\n",
       "      <td>Some-college</td>\n",
       "      <td>divorced</td>\n",
       "      <td>F</td>\n",
       "      <td>38</td>\n",
       "      <td>N</td>\n",
       "    </tr>\n",
       "    <tr>\n",
       "      <th>1</th>\n",
       "      <td>53</td>\n",
       "      <td>34</td>\n",
       "      <td>Private</td>\n",
       "      <td>HS-grad</td>\n",
       "      <td>single</td>\n",
       "      <td>F</td>\n",
       "      <td>40</td>\n",
       "      <td>N</td>\n",
       "    </tr>\n",
       "    <tr>\n",
       "      <th>2</th>\n",
       "      <td>54</td>\n",
       "      <td>33</td>\n",
       "      <td>Private</td>\n",
       "      <td>Bachelors</td>\n",
       "      <td>single</td>\n",
       "      <td>F</td>\n",
       "      <td>40</td>\n",
       "      <td>N</td>\n",
       "    </tr>\n",
       "    <tr>\n",
       "      <th>3</th>\n",
       "      <td>55</td>\n",
       "      <td>21</td>\n",
       "      <td>Private</td>\n",
       "      <td>HS-grad</td>\n",
       "      <td>single</td>\n",
       "      <td>M</td>\n",
       "      <td>35</td>\n",
       "      <td>N</td>\n",
       "    </tr>\n",
       "    <tr>\n",
       "      <th>4</th>\n",
       "      <td>56</td>\n",
       "      <td>52</td>\n",
       "      <td>NaN</td>\n",
       "      <td>HS-grad</td>\n",
       "      <td>divorced</td>\n",
       "      <td>M</td>\n",
       "      <td>45</td>\n",
       "      <td>Y</td>\n",
       "    </tr>\n",
       "    <tr>\n",
       "      <th>5</th>\n",
       "      <td>57</td>\n",
       "      <td>48</td>\n",
       "      <td>Private</td>\n",
       "      <td>HS-grad</td>\n",
       "      <td>married</td>\n",
       "      <td>M</td>\n",
       "      <td>46</td>\n",
       "      <td>N</td>\n",
       "    </tr>\n",
       "    <tr>\n",
       "      <th>6</th>\n",
       "      <td>58</td>\n",
       "      <td>23</td>\n",
       "      <td>Private</td>\n",
       "      <td>Bachelors</td>\n",
       "      <td>single</td>\n",
       "      <td>M</td>\n",
       "      <td>40</td>\n",
       "      <td>N</td>\n",
       "    </tr>\n",
       "    <tr>\n",
       "      <th>7</th>\n",
       "      <td>59</td>\n",
       "      <td>71</td>\n",
       "      <td>Self-emp-not-inc</td>\n",
       "      <td>Some-college</td>\n",
       "      <td>divorced</td>\n",
       "      <td>M</td>\n",
       "      <td>2</td>\n",
       "      <td>N</td>\n",
       "    </tr>\n",
       "    <tr>\n",
       "      <th>8</th>\n",
       "      <td>60</td>\n",
       "      <td>29</td>\n",
       "      <td>Private</td>\n",
       "      <td>HS-grad</td>\n",
       "      <td>divorced</td>\n",
       "      <td>M</td>\n",
       "      <td>60</td>\n",
       "      <td>N</td>\n",
       "    </tr>\n",
       "    <tr>\n",
       "      <th>9</th>\n",
       "      <td>61</td>\n",
       "      <td>42</td>\n",
       "      <td>Private</td>\n",
       "      <td>Bachelors</td>\n",
       "      <td>divorced</td>\n",
       "      <td>M</td>\n",
       "      <td>50</td>\n",
       "      <td>N</td>\n",
       "    </tr>\n",
       "  </tbody>\n",
       "</table>\n",
       "</div>"
      ],
      "text/plain": [
       "   id age         workclass     education marital-status sex hours-per-week  \\\n",
       "0  52  47         Local-gov  Some-college       divorced   F             38   \n",
       "1  53  34           Private       HS-grad         single   F             40   \n",
       "2  54  33           Private     Bachelors         single   F             40   \n",
       "3  55  21           Private       HS-grad         single   M             35   \n",
       "4  56  52               NaN       HS-grad       divorced   M             45   \n",
       "5  57  48           Private       HS-grad        married   M             46   \n",
       "6  58  23           Private     Bachelors         single   M             40   \n",
       "7  59  71  Self-emp-not-inc  Some-college       divorced   M              2   \n",
       "8  60  29           Private       HS-grad       divorced   M             60   \n",
       "9  61  42           Private     Bachelors       divorced   M             50   \n",
       "\n",
       "  class  \n",
       "0     N  \n",
       "1     N  \n",
       "2     N  \n",
       "3     N  \n",
       "4     Y  \n",
       "5     N  \n",
       "6     N  \n",
       "7     N  \n",
       "8     N  \n",
       "9     N  "
      ]
     },
     "execution_count": 12,
     "metadata": {},
     "output_type": "execute_result"
    }
   ],
   "source": [
    "from lxml import etree\n",
    "\n",
    "#créer le parser et spécifier qu'il doit valider le DTD\n",
    "parser = etree.XMLParser(dtd_validation=True)\n",
    "\n",
    "#analyser le fichier XML en utilisant ce parser\n",
    "arbre = etree.parse('data/adult4.xml', parser)\n",
    "\n",
    "def valeur_noeud(noeud):\n",
    "    \"\"\"Une fonction qui retourne np.nan si le texte du noeud est absent, sinon le texte lui-meme\n",
    "    \"\"\"\n",
    "    return noeud.text if noeud is not None else np.nan\n",
    "\n",
    "\n",
    "# Creer une table pandas vide afin de la remplir a partir des donnees XML\n",
    "noms2 = ['id', 'age', 'workclass', 'education', 'marital-status', 'sex', 'hours-per-week', 'class']\n",
    "adult4 = pd.DataFrame(columns=noms2)\n",
    "\n",
    "# parcourir la structure arbre afin de la transformer a une table pandas\n",
    "for candidat in arbre.getroot():\n",
    "    idi       = candidat.get('id')\n",
    "    age       = valeur_noeud(candidat.find('age')           )\n",
    "    workclass = valeur_noeud(candidat.find('workclass')     )\n",
    "    education = valeur_noeud(candidat.find('education')     )\n",
    "    marital   = valeur_noeud(candidat.find('marital-status'))\n",
    "    sex       = valeur_noeud(candidat.find('sex')           )\n",
    "    hours     = valeur_noeud(candidat.find('hours-per-week'))\n",
    "    klass     = valeur_noeud(candidat.find('class')         )\n",
    "\n",
    "    adult4 = pd.concat([\n",
    "        adult4, \n",
    "        pd.Series([idi, age, workclass, education, marital, sex, hours, klass],index=noms2).to_frame().T\n",
    "        ], axis=0, ignore_index=True)\n",
    "\n",
    "print(len(adult4))\n",
    "adult4.head(10)"
   ]
  },
  {
   "cell_type": "markdown",
   "id": "7b0af2bd",
   "metadata": {},
   "source": [
    "**TODO: Analyse** \n",
    "- Que remarquez-vous concernant l'ordre, le nombre et les noms des caractéristiques dans les 4 datasets ?\n",
    "- Que remarquez-vous à propos des valeurs des 4 tables ?\n",
    "\n",
    "**Réponse**\n",
    "- ... L'ordre est différent, de même pour le nom des caractéristiques mais leur nombre est le même \n",
    "- ... Les valeurs aussi sont différentes"
   ]
  },
  {
   "cell_type": "markdown",
   "id": "564353be",
   "metadata": {},
   "source": [
    "### II.2. Intégration des données\n",
    "\n",
    "Dans cette section, nous allons appliquer des opérations sur les différentes tables. \n",
    "Vous devez à chaque fois figurer l'operation et son utilite."
   ]
  },
  {
   "cell_type": "code",
   "execution_count": 13,
   "id": "37a11f6d",
   "metadata": {},
   "outputs": [
    {
     "data": {
      "text/plain": [
       "['num',\n",
       " 'age',\n",
       " 'workclass',\n",
       " 'education',\n",
       " 'marital-status',\n",
       " 'sex',\n",
       " 'hours-per-day',\n",
       " 'class']"
      ]
     },
     "execution_count": 13,
     "metadata": {},
     "output_type": "execute_result"
    }
   ],
   "source": [
    "# Afficher les noms des colonnes de adult3\n",
    "list(adult3.columns)"
   ]
  },
  {
   "cell_type": "code",
   "execution_count": 14,
   "id": "e2195b77",
   "metadata": {},
   "outputs": [
    {
     "name": "stdout",
     "output_type": "stream",
     "text": [
      "['id', 'age', 'workclass', 'education', 'marital-status', 'sex', 'hours-per-week', 'class']\n"
     ]
    },
    {
     "data": {
      "text/plain": [
       "['age',\n",
       " 'workclass',\n",
       " 'education',\n",
       " 'marital-status',\n",
       " 'occupation',\n",
       " 'sex',\n",
       " 'hours-per-week',\n",
       " 'class']"
      ]
     },
     "execution_count": 14,
     "metadata": {},
     "output_type": "execute_result"
    }
   ],
   "source": [
    "adult3.rename(columns={'num': 'id', 'hours-per-day': 'hours-per-week'}, inplace=True)\n",
    "adult1.rename(columns={'Hours-per-week': 'hours-per-week', 'Marital-status': 'marital-status'}, inplace=True)\n",
    "\n",
    "# Afficher les noms des colonnes de adult3\n",
    "print(list(adult3.columns))\n",
    "list(adult1.columns)\n",
    "\n",
    "# Adult1 a l'attribut occupation en plus % aux autres et n'a pas id"
   ]
  },
  {
   "cell_type": "markdown",
   "id": "300358d6",
   "metadata": {},
   "source": [
    "**TODO: Analyse** \n",
    "- Quelle opération avons-nous appliqué ?\n",
    "- Pourquoi ? (Quel est l'intérêt ?)\n",
    "- Est-ce qu'en appliquant cette opération, nous aurons certains problèmes ?\n",
    "\n",
    "**Réponse**\n",
    "- ... On a fait une intégration des schémas\n",
    "- ... C'est pour éviter le problème de nommage entre les données représentant le même attribut\n",
    "- ... Non, cette opération ne cause pas de problèmes tant qu'une convention de nommage est définie"
   ]
  },
  {
   "cell_type": "code",
   "execution_count": 15,
   "id": "b82ab545",
   "metadata": {},
   "outputs": [
    {
     "name": "stdout",
     "output_type": "stream",
     "text": [
      "    age         workclass  education      marital-status     sex  \\\n",
      "0  39.0         State-gov  Bachelors       Never-married    Male   \n",
      "1  50.0  Self-emp-not-inc  Bachelors  Married-civ-spouse    Male   \n",
      "2  38.0           Private    HS-grad            Divorced    Male   \n",
      "3  53.0           Private       11th                 NaN    Male   \n",
      "4  28.0           Private  Bachelors  Married-civ-spouse  Female   \n",
      "\n",
      "   hours-per-week  class         occupation  \n",
      "0              40  <=50K       Adm-clerical  \n",
      "1              13  <=50K    Exec-managerial  \n",
      "2              40  <=50K  Handlers-cleaners  \n",
      "3              40  <=50K  Handlers-cleaners  \n",
      "4              40  <=50K     Prof-specialty  \n"
     ]
    },
    {
     "data": {
      "text/plain": [
       "['age',\n",
       " 'workclass',\n",
       " 'education',\n",
       " 'marital-status',\n",
       " 'sex',\n",
       " 'hours-per-week',\n",
       " 'class',\n",
       " 'id']"
      ]
     },
     "execution_count": 15,
     "metadata": {},
     "output_type": "execute_result"
    }
   ],
   "source": [
    "ordre = ['age', 'workclass', 'education', 'marital-status', 'sex', 'hours-per-week', 'class']\n",
    "adult1 = adult1.reindex(ordre + [\"occupation\"], axis=1)\n",
    "print (adult1.head())\n",
    "adult2 = adult2.reindex(ordre, axis=1)\n",
    "adult3 = adult3.reindex(ordre + ['id'], axis=1)\n",
    "adult4 = adult4.reindex(ordre + ['id'], axis=1)\n",
    "\n",
    "# Afficher les noms des colonnes de adult3\n",
    "list(adult3.columns)"
   ]
  },
  {
   "cell_type": "markdown",
   "id": "88e2ceb1",
   "metadata": {},
   "source": [
    "**TODO: Analyse** \n",
    "- Quelle opération avons-nous appliqué ?\n",
    "- Pourquoi ? (Quel est l'intérêt ?)\n",
    "\n",
    "**Réponse**\n",
    "- ... Un réordonnancement unifrome entre les colonnes, tq l'ordre est le même et les colonnes en plus sont mises à la fin\n",
    "- ... Pour assurer une bonne intégration entre les attributs des différentes tables de données"
   ]
  },
  {
   "cell_type": "code",
   "execution_count": 16,
   "id": "4f3e6068",
   "metadata": {},
   "outputs": [
    {
     "data": {
      "text/html": [
       "<div>\n",
       "<style scoped>\n",
       "    .dataframe tbody tr th:only-of-type {\n",
       "        vertical-align: middle;\n",
       "    }\n",
       "\n",
       "    .dataframe tbody tr th {\n",
       "        vertical-align: top;\n",
       "    }\n",
       "\n",
       "    .dataframe thead th {\n",
       "        text-align: right;\n",
       "    }\n",
       "</style>\n",
       "<table border=\"1\" class=\"dataframe\">\n",
       "  <thead>\n",
       "    <tr style=\"text-align: right;\">\n",
       "      <th></th>\n",
       "      <th>age</th>\n",
       "      <th>workclass</th>\n",
       "      <th>education</th>\n",
       "      <th>marital-status</th>\n",
       "      <th>sex</th>\n",
       "      <th>hours-per-week</th>\n",
       "      <th>class</th>\n",
       "      <th>id</th>\n",
       "    </tr>\n",
       "  </thead>\n",
       "  <tbody>\n",
       "    <tr>\n",
       "      <th>0</th>\n",
       "      <td>76</td>\n",
       "      <td>Private</td>\n",
       "      <td>Masters</td>\n",
       "      <td>married</td>\n",
       "      <td>M</td>\n",
       "      <td>8.0</td>\n",
       "      <td>Y</td>\n",
       "      <td>1</td>\n",
       "    </tr>\n",
       "    <tr>\n",
       "      <th>1</th>\n",
       "      <td>44</td>\n",
       "      <td>Private</td>\n",
       "      <td>Bachelors</td>\n",
       "      <td>married</td>\n",
       "      <td>M</td>\n",
       "      <td>12.0</td>\n",
       "      <td>Y</td>\n",
       "      <td>2</td>\n",
       "    </tr>\n",
       "  </tbody>\n",
       "</table>\n",
       "</div>"
      ],
      "text/plain": [
       "   age workclass  education marital-status sex  hours-per-week class  id\n",
       "0   76   Private    Masters        married   M             8.0     Y   1\n",
       "1   44   Private  Bachelors        married   M            12.0     Y   2"
      ]
     },
     "execution_count": 16,
     "metadata": {},
     "output_type": "execute_result"
    }
   ],
   "source": [
    "# Afficher les deux premières lignes de la table adult3\n",
    "adult3.head(2)"
   ]
  },
  {
   "cell_type": "code",
   "execution_count": 17,
   "id": "c4688f99",
   "metadata": {},
   "outputs": [
    {
     "data": {
      "text/html": [
       "<div>\n",
       "<style scoped>\n",
       "    .dataframe tbody tr th:only-of-type {\n",
       "        vertical-align: middle;\n",
       "    }\n",
       "\n",
       "    .dataframe tbody tr th {\n",
       "        vertical-align: top;\n",
       "    }\n",
       "\n",
       "    .dataframe thead th {\n",
       "        text-align: right;\n",
       "    }\n",
       "</style>\n",
       "<table border=\"1\" class=\"dataframe\">\n",
       "  <thead>\n",
       "    <tr style=\"text-align: right;\">\n",
       "      <th></th>\n",
       "      <th>age</th>\n",
       "      <th>workclass</th>\n",
       "      <th>education</th>\n",
       "      <th>marital-status</th>\n",
       "      <th>sex</th>\n",
       "      <th>hours-per-week</th>\n",
       "      <th>class</th>\n",
       "      <th>id</th>\n",
       "    </tr>\n",
       "  </thead>\n",
       "  <tbody>\n",
       "    <tr>\n",
       "      <th>0</th>\n",
       "      <td>76</td>\n",
       "      <td>Private</td>\n",
       "      <td>Masters</td>\n",
       "      <td>married</td>\n",
       "      <td>M</td>\n",
       "      <td>40.0</td>\n",
       "      <td>Y</td>\n",
       "      <td>1</td>\n",
       "    </tr>\n",
       "    <tr>\n",
       "      <th>1</th>\n",
       "      <td>44</td>\n",
       "      <td>Private</td>\n",
       "      <td>Bachelors</td>\n",
       "      <td>married</td>\n",
       "      <td>M</td>\n",
       "      <td>60.0</td>\n",
       "      <td>Y</td>\n",
       "      <td>2</td>\n",
       "    </tr>\n",
       "  </tbody>\n",
       "</table>\n",
       "</div>"
      ],
      "text/plain": [
       "   age workclass  education marital-status sex  hours-per-week class  id\n",
       "0   76   Private    Masters        married   M            40.0     Y   1\n",
       "1   44   Private  Bachelors        married   M            60.0     Y   2"
      ]
     },
     "execution_count": 17,
     "metadata": {},
     "output_type": "execute_result"
    }
   ],
   "source": [
    "adult3['hours-per-week'] *= 5\n",
    "\n",
    "# Afficher les deux premières lignes de la table adult3\n",
    "adult3.head(2)"
   ]
  },
  {
   "cell_type": "markdown",
   "id": "5c02cd42",
   "metadata": {},
   "source": [
    "**TODO: Analyse** \n",
    "- Quelle opération avons-nous appliqué ?\n",
    "- Pourquoi ? (Quel est l'intérêt ?)\n",
    "\n",
    "**Réponse**\n",
    "- ... Une unification d'échelle (de jours en semaines, *5 car on travaille 5 jours par semaine)\n",
    "- ... Pour éviter les conflits de valeurs dûs aux échelles différentes"
   ]
  },
  {
   "cell_type": "code",
   "execution_count": 18,
   "id": "28a335ae",
   "metadata": {},
   "outputs": [
    {
     "name": "stdout",
     "output_type": "stream",
     "text": [
      "100\n"
     ]
    },
    {
     "data": {
      "text/html": [
       "<div>\n",
       "<style scoped>\n",
       "    .dataframe tbody tr th:only-of-type {\n",
       "        vertical-align: middle;\n",
       "    }\n",
       "\n",
       "    .dataframe tbody tr th {\n",
       "        vertical-align: top;\n",
       "    }\n",
       "\n",
       "    .dataframe thead th {\n",
       "        text-align: right;\n",
       "    }\n",
       "</style>\n",
       "<table border=\"1\" class=\"dataframe\">\n",
       "  <thead>\n",
       "    <tr style=\"text-align: right;\">\n",
       "      <th></th>\n",
       "      <th>age</th>\n",
       "      <th>workclass</th>\n",
       "      <th>education</th>\n",
       "      <th>marital-status</th>\n",
       "      <th>sex</th>\n",
       "      <th>hours-per-week</th>\n",
       "      <th>class</th>\n",
       "      <th>id</th>\n",
       "    </tr>\n",
       "  </thead>\n",
       "  <tbody>\n",
       "    <tr>\n",
       "      <th>0</th>\n",
       "      <td>76</td>\n",
       "      <td>Private</td>\n",
       "      <td>Masters</td>\n",
       "      <td>married</td>\n",
       "      <td>M</td>\n",
       "      <td>40.0</td>\n",
       "      <td>Y</td>\n",
       "      <td>1</td>\n",
       "    </tr>\n",
       "    <tr>\n",
       "      <th>1</th>\n",
       "      <td>44</td>\n",
       "      <td>Private</td>\n",
       "      <td>Bachelors</td>\n",
       "      <td>married</td>\n",
       "      <td>M</td>\n",
       "      <td>60.0</td>\n",
       "      <td>Y</td>\n",
       "      <td>2</td>\n",
       "    </tr>\n",
       "    <tr>\n",
       "      <th>2</th>\n",
       "      <td>47</td>\n",
       "      <td>Self-emp-not-inc</td>\n",
       "      <td>Masters</td>\n",
       "      <td>single</td>\n",
       "      <td>F</td>\n",
       "      <td>50.0</td>\n",
       "      <td>N</td>\n",
       "      <td>3</td>\n",
       "    </tr>\n",
       "    <tr>\n",
       "      <th>3</th>\n",
       "      <td>20</td>\n",
       "      <td>Private</td>\n",
       "      <td>Some-college</td>\n",
       "      <td>single</td>\n",
       "      <td>F</td>\n",
       "      <td>40.0</td>\n",
       "      <td>N</td>\n",
       "      <td>4</td>\n",
       "    </tr>\n",
       "    <tr>\n",
       "      <th>4</th>\n",
       "      <td>29</td>\n",
       "      <td>Private</td>\n",
       "      <td>HS-grad</td>\n",
       "      <td>single</td>\n",
       "      <td>M</td>\n",
       "      <td>40.0</td>\n",
       "      <td>N</td>\n",
       "      <td>5</td>\n",
       "    </tr>\n",
       "    <tr>\n",
       "      <th>5</th>\n",
       "      <td>32</td>\n",
       "      <td>Self-emp-inc</td>\n",
       "      <td>HS-grad</td>\n",
       "      <td>married</td>\n",
       "      <td>M</td>\n",
       "      <td>40.0</td>\n",
       "      <td>Y</td>\n",
       "      <td>6</td>\n",
       "    </tr>\n",
       "    <tr>\n",
       "      <th>6</th>\n",
       "      <td>17</td>\n",
       "      <td>NaN</td>\n",
       "      <td>10th</td>\n",
       "      <td>single</td>\n",
       "      <td>F</td>\n",
       "      <td>32.0</td>\n",
       "      <td>N</td>\n",
       "      <td>7</td>\n",
       "    </tr>\n",
       "    <tr>\n",
       "      <th>7</th>\n",
       "      <td>30</td>\n",
       "      <td>Private</td>\n",
       "      <td>11th</td>\n",
       "      <td>single</td>\n",
       "      <td>M</td>\n",
       "      <td>40.0</td>\n",
       "      <td>N</td>\n",
       "      <td>8</td>\n",
       "    </tr>\n",
       "    <tr>\n",
       "      <th>8</th>\n",
       "      <td>31</td>\n",
       "      <td>Local-gov</td>\n",
       "      <td>HS-grad</td>\n",
       "      <td>single</td>\n",
       "      <td>F</td>\n",
       "      <td>40.0</td>\n",
       "      <td>N</td>\n",
       "      <td>9</td>\n",
       "    </tr>\n",
       "    <tr>\n",
       "      <th>9</th>\n",
       "      <td>42</td>\n",
       "      <td>Private</td>\n",
       "      <td>HS-grad</td>\n",
       "      <td>married</td>\n",
       "      <td>M</td>\n",
       "      <td>40.0</td>\n",
       "      <td>N</td>\n",
       "      <td>10</td>\n",
       "    </tr>\n",
       "  </tbody>\n",
       "</table>\n",
       "</div>"
      ],
      "text/plain": [
       "  age         workclass     education marital-status sex hours-per-week class  \\\n",
       "0  76           Private       Masters        married   M           40.0     Y   \n",
       "1  44           Private     Bachelors        married   M           60.0     Y   \n",
       "2  47  Self-emp-not-inc       Masters         single   F           50.0     N   \n",
       "3  20           Private  Some-college         single   F           40.0     N   \n",
       "4  29           Private       HS-grad         single   M           40.0     N   \n",
       "5  32      Self-emp-inc       HS-grad        married   M           40.0     Y   \n",
       "6  17               NaN          10th         single   F           32.0     N   \n",
       "7  30           Private          11th         single   M           40.0     N   \n",
       "8  31         Local-gov       HS-grad         single   F           40.0     N   \n",
       "9  42           Private       HS-grad        married   M           40.0     N   \n",
       "\n",
       "   id  \n",
       "0   1  \n",
       "1   2  \n",
       "2   3  \n",
       "3   4  \n",
       "4   5  \n",
       "5   6  \n",
       "6   7  \n",
       "7   8  \n",
       "8   9  \n",
       "9  10  "
      ]
     },
     "execution_count": 18,
     "metadata": {},
     "output_type": "execute_result"
    }
   ],
   "source": [
    "adult34 = pd.concat([adult3, adult4], ignore_index=True)\n",
    "print(len(adult34))\n",
    "adult34.head(10)"
   ]
  },
  {
   "cell_type": "markdown",
   "id": "19e1551c",
   "metadata": {},
   "source": [
    "**TODO: Analyse** \n",
    "- Quelle opération avons-nous appliqué ?\n",
    "- Pourquoi ? (Quel est l'intérêt ?)\n",
    "\n",
    "**Réponse**\n",
    "- ... Intégration des données des deux tables adult3 et adult4 (combinaison entre leurs contenus)\n",
    "- ... Agrandire la taille du dataset"
   ]
  },
  {
   "cell_type": "code",
   "execution_count": 19,
   "id": "582182ff",
   "metadata": {},
   "outputs": [
    {
     "name": "stdout",
     "output_type": "stream",
     "text": [
      "12\n"
     ]
    },
    {
     "data": {
      "text/html": [
       "<div>\n",
       "<style scoped>\n",
       "    .dataframe tbody tr th:only-of-type {\n",
       "        vertical-align: middle;\n",
       "    }\n",
       "\n",
       "    .dataframe tbody tr th {\n",
       "        vertical-align: top;\n",
       "    }\n",
       "\n",
       "    .dataframe thead th {\n",
       "        text-align: right;\n",
       "    }\n",
       "</style>\n",
       "<table border=\"1\" class=\"dataframe\">\n",
       "  <thead>\n",
       "    <tr style=\"text-align: right;\">\n",
       "      <th></th>\n",
       "      <th>age</th>\n",
       "      <th>workclass</th>\n",
       "      <th>education</th>\n",
       "      <th>marital-status</th>\n",
       "      <th>sex</th>\n",
       "      <th>hours-per-week</th>\n",
       "      <th>class</th>\n",
       "      <th>id</th>\n",
       "    </tr>\n",
       "  </thead>\n",
       "  <tbody>\n",
       "    <tr>\n",
       "      <th>44</th>\n",
       "      <td>70</td>\n",
       "      <td>Private</td>\n",
       "      <td>Some-college</td>\n",
       "      <td>single</td>\n",
       "      <td>M</td>\n",
       "      <td>40.0</td>\n",
       "      <td>N</td>\n",
       "      <td>45</td>\n",
       "    </tr>\n",
       "    <tr>\n",
       "      <th>94</th>\n",
       "      <td>70</td>\n",
       "      <td>Private</td>\n",
       "      <td>Some-college</td>\n",
       "      <td>single</td>\n",
       "      <td>M</td>\n",
       "      <td>8</td>\n",
       "      <td>N</td>\n",
       "      <td>45</td>\n",
       "    </tr>\n",
       "    <tr>\n",
       "      <th>45</th>\n",
       "      <td>31</td>\n",
       "      <td>Private</td>\n",
       "      <td>HS-grad</td>\n",
       "      <td>single</td>\n",
       "      <td>F</td>\n",
       "      <td>30.0</td>\n",
       "      <td>N</td>\n",
       "      <td>46</td>\n",
       "    </tr>\n",
       "    <tr>\n",
       "      <th>95</th>\n",
       "      <td>31</td>\n",
       "      <td>Private</td>\n",
       "      <td>HS-grad</td>\n",
       "      <td>single</td>\n",
       "      <td>NaN</td>\n",
       "      <td>6</td>\n",
       "      <td>N</td>\n",
       "      <td>46</td>\n",
       "    </tr>\n",
       "    <tr>\n",
       "      <th>46</th>\n",
       "      <td>22</td>\n",
       "      <td>Private</td>\n",
       "      <td>Some-college</td>\n",
       "      <td>married</td>\n",
       "      <td>M</td>\n",
       "      <td>24.0</td>\n",
       "      <td>N</td>\n",
       "      <td>47</td>\n",
       "    </tr>\n",
       "    <tr>\n",
       "      <th>96</th>\n",
       "      <td>22</td>\n",
       "      <td>Private</td>\n",
       "      <td>Some-college</td>\n",
       "      <td>married</td>\n",
       "      <td>M</td>\n",
       "      <td>4.8</td>\n",
       "      <td>N</td>\n",
       "      <td>47</td>\n",
       "    </tr>\n",
       "    <tr>\n",
       "      <th>47</th>\n",
       "      <td>36</td>\n",
       "      <td>Private</td>\n",
       "      <td>HS-grad</td>\n",
       "      <td>widowed</td>\n",
       "      <td>F</td>\n",
       "      <td>24.0</td>\n",
       "      <td>N</td>\n",
       "      <td>48</td>\n",
       "    </tr>\n",
       "    <tr>\n",
       "      <th>97</th>\n",
       "      <td>NaN</td>\n",
       "      <td>Private</td>\n",
       "      <td>HS-grad</td>\n",
       "      <td>widowed</td>\n",
       "      <td>F</td>\n",
       "      <td>4.8</td>\n",
       "      <td>N</td>\n",
       "      <td>48</td>\n",
       "    </tr>\n",
       "    <tr>\n",
       "      <th>48</th>\n",
       "      <td>64</td>\n",
       "      <td>Private</td>\n",
       "      <td>11th</td>\n",
       "      <td>married</td>\n",
       "      <td>M</td>\n",
       "      <td>40.0</td>\n",
       "      <td>N</td>\n",
       "      <td>49</td>\n",
       "    </tr>\n",
       "    <tr>\n",
       "      <th>98</th>\n",
       "      <td>64</td>\n",
       "      <td>Private</td>\n",
       "      <td>11th</td>\n",
       "      <td>married</td>\n",
       "      <td>M</td>\n",
       "      <td>8</td>\n",
       "      <td>N</td>\n",
       "      <td>49</td>\n",
       "    </tr>\n",
       "    <tr>\n",
       "      <th>49</th>\n",
       "      <td>43</td>\n",
       "      <td>NaN</td>\n",
       "      <td>Some-college</td>\n",
       "      <td>divorced</td>\n",
       "      <td>F</td>\n",
       "      <td>40.0</td>\n",
       "      <td>N</td>\n",
       "      <td>50</td>\n",
       "    </tr>\n",
       "    <tr>\n",
       "      <th>99</th>\n",
       "      <td>43</td>\n",
       "      <td>Federal-gov</td>\n",
       "      <td>Some-college</td>\n",
       "      <td>divorced</td>\n",
       "      <td>F</td>\n",
       "      <td>8</td>\n",
       "      <td>N</td>\n",
       "      <td>50</td>\n",
       "    </tr>\n",
       "  </tbody>\n",
       "</table>\n",
       "</div>"
      ],
      "text/plain": [
       "    age    workclass     education marital-status  sex hours-per-week class  \\\n",
       "44   70      Private  Some-college         single    M           40.0     N   \n",
       "94   70      Private  Some-college         single    M              8     N   \n",
       "45   31      Private       HS-grad         single    F           30.0     N   \n",
       "95   31      Private       HS-grad         single  NaN              6     N   \n",
       "46   22      Private  Some-college        married    M           24.0     N   \n",
       "96   22      Private  Some-college        married    M            4.8     N   \n",
       "47   36      Private       HS-grad        widowed    F           24.0     N   \n",
       "97  NaN      Private       HS-grad        widowed    F            4.8     N   \n",
       "48   64      Private          11th        married    M           40.0     N   \n",
       "98   64      Private          11th        married    M              8     N   \n",
       "49   43          NaN  Some-college       divorced    F           40.0     N   \n",
       "99   43  Federal-gov  Some-college       divorced    F              8     N   \n",
       "\n",
       "    id  \n",
       "44  45  \n",
       "94  45  \n",
       "45  46  \n",
       "95  46  \n",
       "46  47  \n",
       "96  47  \n",
       "47  48  \n",
       "97  48  \n",
       "48  49  \n",
       "98  49  \n",
       "49  50  \n",
       "99  50  "
      ]
     },
     "execution_count": 19,
     "metadata": {},
     "output_type": "execute_result"
    }
   ],
   "source": [
    "# Transformer le champs \"id\" à un entier\n",
    "adult34['id'] = pd.to_numeric(adult34['id'], downcast='integer')\n",
    "# Ordonner la table en se basant sur les valeurs de \"id\"\n",
    "adult34 = adult34.sort_values(by='id')\n",
    "\n",
    "# L'opération que vous devez deviner (une opération de vérification)\n",
    "red = adult34[adult34.duplicated('id', keep=False)]  # False pour garder toutes les instances redondantes selon 'id', ou 'first' ou 'last'\n",
    "print(len(red))\n",
    "red"
   ]
  },
  {
   "cell_type": "markdown",
   "id": "31a01085",
   "metadata": {},
   "source": [
    "**TODO: Analyse** \n",
    "- Quelle opération avons-nous appliqué ?\n",
    "- Pourquoi ? (Quel est l'intérêt ?)\n",
    "\n",
    "**Réponse**\n",
    "- ... Une opération de tri et de filtrage des données dupliquées -> gestion de la redondance\n",
    "- ... Pour trouver les valeurs redondantes et les traiter"
   ]
  },
  {
   "cell_type": "code",
   "execution_count": 20,
   "id": "0da75dc6",
   "metadata": {},
   "outputs": [
    {
     "data": {
      "text/html": [
       "<div>\n",
       "<style scoped>\n",
       "    .dataframe tbody tr th:only-of-type {\n",
       "        vertical-align: middle;\n",
       "    }\n",
       "\n",
       "    .dataframe tbody tr th {\n",
       "        vertical-align: top;\n",
       "    }\n",
       "\n",
       "    .dataframe thead th {\n",
       "        text-align: right;\n",
       "    }\n",
       "</style>\n",
       "<table border=\"1\" class=\"dataframe\">\n",
       "  <thead>\n",
       "    <tr style=\"text-align: right;\">\n",
       "      <th></th>\n",
       "      <th>age</th>\n",
       "      <th>workclass</th>\n",
       "      <th>education</th>\n",
       "      <th>marital-status</th>\n",
       "      <th>sex</th>\n",
       "      <th>hours-per-week</th>\n",
       "      <th>class</th>\n",
       "      <th>id</th>\n",
       "    </tr>\n",
       "  </thead>\n",
       "  <tbody>\n",
       "    <tr>\n",
       "      <th>44</th>\n",
       "      <td>70</td>\n",
       "      <td>Private</td>\n",
       "      <td>Some-college</td>\n",
       "      <td>single</td>\n",
       "      <td>M</td>\n",
       "      <td>40.0</td>\n",
       "      <td>N</td>\n",
       "      <td>45</td>\n",
       "    </tr>\n",
       "    <tr>\n",
       "      <th>94</th>\n",
       "      <td>70</td>\n",
       "      <td>Private</td>\n",
       "      <td>Some-college</td>\n",
       "      <td>single</td>\n",
       "      <td>M</td>\n",
       "      <td>8</td>\n",
       "      <td>N</td>\n",
       "      <td>45</td>\n",
       "    </tr>\n",
       "    <tr>\n",
       "      <th>45</th>\n",
       "      <td>31</td>\n",
       "      <td>Private</td>\n",
       "      <td>HS-grad</td>\n",
       "      <td>single</td>\n",
       "      <td>F</td>\n",
       "      <td>30.0</td>\n",
       "      <td>N</td>\n",
       "      <td>46</td>\n",
       "    </tr>\n",
       "    <tr>\n",
       "      <th>95</th>\n",
       "      <td>31</td>\n",
       "      <td>Private</td>\n",
       "      <td>HS-grad</td>\n",
       "      <td>single</td>\n",
       "      <td>F</td>\n",
       "      <td>6</td>\n",
       "      <td>N</td>\n",
       "      <td>46</td>\n",
       "    </tr>\n",
       "    <tr>\n",
       "      <th>46</th>\n",
       "      <td>22</td>\n",
       "      <td>Private</td>\n",
       "      <td>Some-college</td>\n",
       "      <td>married</td>\n",
       "      <td>M</td>\n",
       "      <td>24.0</td>\n",
       "      <td>N</td>\n",
       "      <td>47</td>\n",
       "    </tr>\n",
       "    <tr>\n",
       "      <th>96</th>\n",
       "      <td>22</td>\n",
       "      <td>Private</td>\n",
       "      <td>Some-college</td>\n",
       "      <td>married</td>\n",
       "      <td>M</td>\n",
       "      <td>4.8</td>\n",
       "      <td>N</td>\n",
       "      <td>47</td>\n",
       "    </tr>\n",
       "    <tr>\n",
       "      <th>47</th>\n",
       "      <td>36</td>\n",
       "      <td>Private</td>\n",
       "      <td>HS-grad</td>\n",
       "      <td>widowed</td>\n",
       "      <td>F</td>\n",
       "      <td>24.0</td>\n",
       "      <td>N</td>\n",
       "      <td>48</td>\n",
       "    </tr>\n",
       "    <tr>\n",
       "      <th>97</th>\n",
       "      <td>36</td>\n",
       "      <td>Private</td>\n",
       "      <td>HS-grad</td>\n",
       "      <td>widowed</td>\n",
       "      <td>F</td>\n",
       "      <td>4.8</td>\n",
       "      <td>N</td>\n",
       "      <td>48</td>\n",
       "    </tr>\n",
       "    <tr>\n",
       "      <th>48</th>\n",
       "      <td>64</td>\n",
       "      <td>Private</td>\n",
       "      <td>11th</td>\n",
       "      <td>married</td>\n",
       "      <td>M</td>\n",
       "      <td>40.0</td>\n",
       "      <td>N</td>\n",
       "      <td>49</td>\n",
       "    </tr>\n",
       "    <tr>\n",
       "      <th>98</th>\n",
       "      <td>64</td>\n",
       "      <td>Private</td>\n",
       "      <td>11th</td>\n",
       "      <td>married</td>\n",
       "      <td>M</td>\n",
       "      <td>8</td>\n",
       "      <td>N</td>\n",
       "      <td>49</td>\n",
       "    </tr>\n",
       "    <tr>\n",
       "      <th>49</th>\n",
       "      <td>43</td>\n",
       "      <td>Federal-gov</td>\n",
       "      <td>Some-college</td>\n",
       "      <td>divorced</td>\n",
       "      <td>F</td>\n",
       "      <td>40.0</td>\n",
       "      <td>N</td>\n",
       "      <td>50</td>\n",
       "    </tr>\n",
       "    <tr>\n",
       "      <th>99</th>\n",
       "      <td>43</td>\n",
       "      <td>Federal-gov</td>\n",
       "      <td>Some-college</td>\n",
       "      <td>divorced</td>\n",
       "      <td>F</td>\n",
       "      <td>8</td>\n",
       "      <td>N</td>\n",
       "      <td>50</td>\n",
       "    </tr>\n",
       "  </tbody>\n",
       "</table>\n",
       "</div>"
      ],
      "text/plain": [
       "   age    workclass     education marital-status sex hours-per-week class  id\n",
       "44  70      Private  Some-college         single   M           40.0     N  45\n",
       "94  70      Private  Some-college         single   M              8     N  45\n",
       "45  31      Private       HS-grad         single   F           30.0     N  46\n",
       "95  31      Private       HS-grad         single   F              6     N  46\n",
       "46  22      Private  Some-college        married   M           24.0     N  47\n",
       "96  22      Private  Some-college        married   M            4.8     N  47\n",
       "47  36      Private       HS-grad        widowed   F           24.0     N  48\n",
       "97  36      Private       HS-grad        widowed   F            4.8     N  48\n",
       "48  64      Private          11th        married   M           40.0     N  49\n",
       "98  64      Private          11th        married   M              8     N  49\n",
       "49  43  Federal-gov  Some-college       divorced   F           40.0     N  50\n",
       "99  43  Federal-gov  Some-college       divorced   F              8     N  50"
      ]
     },
     "execution_count": 20,
     "metadata": {},
     "output_type": "execute_result"
    }
   ],
   "source": [
    "# Il y a un problème avec cette forme\n",
    "# en attendant qu'il soit réglé\n",
    "#adult34 = adult34.groupby(\"id\").ffill()\n",
    "\n",
    "adult34.update(adult34.groupby(['id']).ffill())   # Forward FILL dans le cas où le suivant manque\n",
    "adult34.update(adult34.groupby(['id']).bfill())   # Backward FILL dans le cas où le précédent manque\n",
    "\n",
    "# L'opération de vérification précédente\n",
    "red = adult34[adult34.duplicated('id', keep=False)]\n",
    "red"
   ]
  },
  {
   "cell_type": "markdown",
   "id": "3e0889d1",
   "metadata": {},
   "source": [
    "**TODO: Analyse** \n",
    "- Quelle opération avons-nous appliqué ?\n",
    "- Pourquoi ? (Quel est l'intérêt ?)\n",
    "\n",
    "**Réponse**\n",
    "- ... Inférer les données manquantes dans des instances redondantes selon 'id'\n",
    "- ... Pour combler les vides (Nan..) dans le dataset d'une manière certaine ici vu que ce sont des données redondantes"
   ]
  },
  {
   "cell_type": "code",
   "execution_count": 21,
   "id": "fcfd9a0a",
   "metadata": {},
   "outputs": [
    {
     "data": {
      "text/html": [
       "<div>\n",
       "<style scoped>\n",
       "    .dataframe tbody tr th:only-of-type {\n",
       "        vertical-align: middle;\n",
       "    }\n",
       "\n",
       "    .dataframe tbody tr th {\n",
       "        vertical-align: top;\n",
       "    }\n",
       "\n",
       "    .dataframe thead th {\n",
       "        text-align: right;\n",
       "    }\n",
       "</style>\n",
       "<table border=\"1\" class=\"dataframe\">\n",
       "  <thead>\n",
       "    <tr style=\"text-align: right;\">\n",
       "      <th></th>\n",
       "      <th>age</th>\n",
       "      <th>workclass</th>\n",
       "      <th>education</th>\n",
       "      <th>marital-status</th>\n",
       "      <th>sex</th>\n",
       "      <th>hours-per-week</th>\n",
       "      <th>class</th>\n",
       "      <th>id</th>\n",
       "    </tr>\n",
       "  </thead>\n",
       "  <tbody>\n",
       "  </tbody>\n",
       "</table>\n",
       "</div>"
      ],
      "text/plain": [
       "Empty DataFrame\n",
       "Columns: [age, workclass, education, marital-status, sex, hours-per-week, class, id]\n",
       "Index: []"
      ]
     },
     "execution_count": 21,
     "metadata": {},
     "output_type": "execute_result"
    }
   ],
   "source": [
    "adult34.drop_duplicates('id', keep='last', inplace=True)  # inplace means to modify the dataframe rathen than creating a new one\n",
    "\n",
    "# On refait la même opération précédente\n",
    "red = adult34[adult34.duplicated('id', keep=False)]\n",
    "red"
   ]
  },
  {
   "cell_type": "markdown",
   "id": "ac8c4341",
   "metadata": {},
   "source": [
    "**TODO: Analyse** \n",
    "- Quelle opération avons-nous appliqué ?\n",
    "- Pourquoi ? (Quel est l'intérêt ?)\n",
    "\n",
    "**Réponse**\n",
    "- ... On a éliminé les dernières instances redondantes\n",
    "- ... Pour nettoyer le dataset des instances redondantes en assumant que la dernière instance est la plus adéquate"
   ]
  },
  {
   "cell_type": "code",
   "execution_count": 22,
   "id": "c9942837",
   "metadata": {},
   "outputs": [
    {
     "data": {
      "text/plain": [
       "['age',\n",
       " 'workclass',\n",
       " 'education',\n",
       " 'marital-status',\n",
       " 'sex',\n",
       " 'hours-per-week',\n",
       " 'class',\n",
       " 'occupation']"
      ]
     },
     "execution_count": 22,
     "metadata": {},
     "output_type": "execute_result"
    }
   ],
   "source": [
    "list(adult1.columns)"
   ]
  },
  {
   "cell_type": "code",
   "execution_count": 23,
   "id": "ff9d6799",
   "metadata": {},
   "outputs": [
    {
     "data": {
      "text/plain": [
       "['age',\n",
       " 'workclass',\n",
       " 'education',\n",
       " 'marital-status',\n",
       " 'sex',\n",
       " 'hours-per-week',\n",
       " 'class']"
      ]
     },
     "execution_count": 23,
     "metadata": {},
     "output_type": "execute_result"
    }
   ],
   "source": [
    "adult1 .drop(['occupation'], axis=1, inplace=True)\n",
    "adult34.drop(['id'        ], axis=1, inplace=True)\n",
    "\n",
    "list(adult1.columns)"
   ]
  },
  {
   "cell_type": "markdown",
   "id": "7bd863b5",
   "metadata": {},
   "source": [
    "**TODO: Analyse** \n",
    "- Quelle opération avons-nous appliqué ?\n",
    "- Pourquoi ? (Quel est l'intérêt ?)\n",
    "\n",
    "**Réponse**\n",
    "- ... Eliminer les colonnes différentes entre les tableaux\n",
    "- ... Pour pouvoir les intégrer par la suite avec un schéma uniforme"
   ]
  },
  {
   "cell_type": "code",
   "execution_count": 24,
   "id": "b0562378",
   "metadata": {},
   "outputs": [
    {
     "data": {
      "text/plain": [
       "array(['Never-married', 'Married-civ-spouse', 'Divorced', nan,\n",
       "       'Married-spouse-absent', 'Separated', 'Married-AF-spouse'],\n",
       "      dtype=object)"
      ]
     },
     "execution_count": 24,
     "metadata": {},
     "output_type": "execute_result"
    }
   ],
   "source": [
    "# les différentes valeurs du colonne adult1.marital-status\n",
    "adult1['marital-status'].unique()"
   ]
  },
  {
   "cell_type": "code",
   "execution_count": 25,
   "id": "3e15df2d",
   "metadata": {},
   "outputs": [
    {
     "data": {
      "text/plain": [
       "array(['single', 'married', 'divorced', nan], dtype=object)"
      ]
     },
     "execution_count": 25,
     "metadata": {},
     "output_type": "execute_result"
    }
   ],
   "source": [
    "dic = {\n",
    "    'Never-married'        : 'single'  ,\n",
    "    'Married-civ-spouse'   : 'married' ,\n",
    "    'Married-spouse-absent': 'married' ,\n",
    "    'Married-AF-spouse'    : 'married' ,\n",
    "    'Divorced'             : 'divorced',\n",
    "    'Separated'            : 'divorced',\n",
    "    'Widowed'              : 'widowed'\n",
    "}\n",
    "\n",
    "adult1['marital-status'] = adult1['marital-status'].map(dic)\n",
    "adult2['marital-status'] = adult2['marital-status'].map(dic)\n",
    "\n",
    "# les différentes valeurs du colonne adult1.marital-status après mappage\n",
    "adult1['marital-status'].unique()"
   ]
  },
  {
   "cell_type": "markdown",
   "id": "ccd81277",
   "metadata": {},
   "source": [
    "**TODO: Analyse** \n",
    "- Quelle opération avons-nous appliqué ?\n",
    "- Pourquoi ? (Quel est l'intérêt ?)\n",
    "\n",
    "**Réponse**\n",
    "- ... Transformer les valeurs en leurs équivalents dans adult34\n",
    "- ... Pour éviter les conflits entre les valeurs"
   ]
  },
  {
   "cell_type": "code",
   "execution_count": 26,
   "id": "cb1d00fb",
   "metadata": {},
   "outputs": [
    {
     "name": "stdout",
     "output_type": "stream",
     "text": [
      "['age', 'workclass', 'education', 'marital-status', 'sex', 'hours-per-week', 'class']\n"
     ]
    },
    {
     "data": {
      "text/plain": [
       "(194, 7)"
      ]
     },
     "execution_count": 26,
     "metadata": {},
     "output_type": "execute_result"
    }
   ],
   "source": [
    "# On va appliquer la même opération sur d'autres caractéristiques\n",
    "adult1['sex'  ] = adult1['sex'  ].map({\"Female\": \"F\", \"Male\": \"M\"})\n",
    "adult1['class'] = adult1['class'].map({\"<=50K\": \"N\", \">50K\": \"Y\"})\n",
    "\n",
    "# Ensuite, on fusionne les tables dans une seule\n",
    "adult = pd.concat([adult1, adult2, adult34], ignore_index=True)\n",
    "\n",
    "# dimension de la table adult\n",
    "print(list(adult.columns))\n",
    "adult.shape"
   ]
  },
  {
   "cell_type": "markdown",
   "id": "cde7f137",
   "metadata": {},
   "source": [
    "### II.3. Nétoyage des données\n",
    "\n",
    "Ici, on va appliquer des opérations de nétoyage. C'est à vous de déviner quelle opération a-t-on utilisé et pourqoi.\n"
   ]
  },
  {
   "cell_type": "code",
   "execution_count": 27,
   "id": "8595785f",
   "metadata": {},
   "outputs": [
    {
     "data": {
      "text/plain": [
       "age                5\n",
       "workclass         10\n",
       "education          1\n",
       "marital-status     4\n",
       "sex                2\n",
       "hours-per-week     2\n",
       "class              0\n",
       "dtype: int64"
      ]
     },
     "execution_count": 27,
     "metadata": {},
     "output_type": "execute_result"
    }
   ],
   "source": [
    "# Afficher le nombre des valeurs nulles dans chaque colonne\n",
    "adult.isnull().sum()"
   ]
  },
  {
   "cell_type": "code",
   "execution_count": 28,
   "id": "39c8f04b",
   "metadata": {},
   "outputs": [
    {
     "data": {
      "text/plain": [
       "age               3\n",
       "workclass         0\n",
       "education         0\n",
       "marital-status    0\n",
       "sex               0\n",
       "hours-per-week    0\n",
       "class             0\n",
       "dtype: int64"
      ]
     },
     "execution_count": 28,
     "metadata": {},
     "output_type": "execute_result"
    }
   ],
   "source": [
    "adult.dropna(subset=[\"workclass\", \"education\", \"marital-status\", \"sex\", \"hours-per-week\", \"class\"], inplace=True)\n",
    "adult.isnull().sum()"
   ]
  },
  {
   "cell_type": "markdown",
   "id": "8e3d7475",
   "metadata": {},
   "source": [
    "**TODO: Analyse** \n",
    "- Quelle opération a-t-on appliqué ?\n",
    "- Pourquoi ? (Quel est l'intérêt ?)\n",
    "\n",
    "**Réponse**\n",
    "- ... Ignorer les tuples contenant des valeurs Nan pour toutes les colonnes sauf age\n",
    "- ... Pour avoir des données plus complètes"
   ]
  },
  {
   "cell_type": "code",
   "execution_count": 29,
   "id": "e58fa7de",
   "metadata": {},
   "outputs": [
    {
     "data": {
      "text/plain": [
       "age               0\n",
       "workclass         0\n",
       "education         0\n",
       "marital-status    0\n",
       "sex               0\n",
       "hours-per-week    0\n",
       "class             0\n",
       "dtype: int64"
      ]
     },
     "execution_count": 29,
     "metadata": {},
     "output_type": "execute_result"
    }
   ],
   "source": [
    "adult[\"age\"] = pd.to_numeric(adult[\"age\"])\n",
    "adult[\"age\"] = adult.groupby([\"class\", \"education\"])[\"age\"].transform(lambda x: x.fillna(int(round(x.mean()))))\n",
    "adult.isnull().sum()"
   ]
  },
  {
   "cell_type": "markdown",
   "id": "f237fece",
   "metadata": {},
   "source": [
    "**TODO: Analyse** \n",
    "- Quelle opération a-t-on appliqué ?\n",
    "- Pourquoi ? (Quel est l'intérêt ?)\n",
    "\n",
    "**Réponse**\n",
    "- ... Compléter les valeurs manquantes par la moyenne selon des groupes de \"class\" et \"education\"\n",
    "- ... Trouver une valeur adéquate pour chaque valeur manquante pour compléter le dataset"
   ]
  },
  {
   "cell_type": "markdown",
   "id": "fdb47fb3",
   "metadata": {},
   "source": [
    "### II.4. Transformation des données"
   ]
  },
  {
   "cell_type": "code",
   "execution_count": 30,
   "id": "38278ca9",
   "metadata": {},
   "outputs": [
    {
     "data": {
      "text/plain": [
       "0    Bachelors\n",
       "1    Bachelors\n",
       "2      HS-grad\n",
       "4    Bachelors\n",
       "5      Masters\n",
       "6          9th\n",
       "Name: education, dtype: object"
      ]
     },
     "execution_count": 30,
     "metadata": {},
     "output_type": "execute_result"
    }
   ],
   "source": [
    "adult[\"education\"].head(6)"
   ]
  },
  {
   "cell_type": "code",
   "execution_count": 46,
   "id": "4cf4dba5",
   "metadata": {},
   "outputs": [
    {
     "data": {
      "text/plain": [
       "array([[6.],\n",
       "       [6.],\n",
       "       [8.],\n",
       "       [6.],\n",
       "       [9.],\n",
       "       [3.]])"
      ]
     },
     "execution_count": 46,
     "metadata": {},
     "output_type": "execute_result"
    }
   ],
   "source": [
    "from sklearn.preprocessing import OrdinalEncoder\n",
    "ord_enc = OrdinalEncoder()\n",
    "# le résultat c'est un numpy.ndarray\n",
    "education_enc = ord_enc.fit_transform(adult[[\"education\"]])\n",
    "education_enc[:6,]"
   ]
  },
  {
   "cell_type": "markdown",
   "id": "bb5a7ebb",
   "metadata": {},
   "source": [
    "**TODO: Analyse** \n",
    "- Quel est le type d'encodage utilisé ?\n",
    "- A votre avis, dans quel cas peut-on utiliser ce type d'encodage ?\n",
    "\n",
    "**Réponse**\n",
    "- ... Encodage ordinal\n",
    "- ... Quand l'ordre des catégories est important"
   ]
  },
  {
   "cell_type": "code",
   "execution_count": 32,
   "id": "1a7a2980",
   "metadata": {},
   "outputs": [
    {
     "data": {
      "text/plain": [
       "0    M\n",
       "1    M\n",
       "2    M\n",
       "4    F\n",
       "5    F\n",
       "6    F\n",
       "Name: sex, dtype: object"
      ]
     },
     "execution_count": 32,
     "metadata": {},
     "output_type": "execute_result"
    }
   ],
   "source": [
    "adult[\"sex\"].head(6)"
   ]
  },
  {
   "cell_type": "code",
   "execution_count": 33,
   "id": "9bb8987b",
   "metadata": {},
   "outputs": [
    {
     "data": {
      "text/plain": [
       "array([[0., 1.],\n",
       "       [0., 1.],\n",
       "       [0., 1.],\n",
       "       [1., 0.],\n",
       "       [1., 0.],\n",
       "       [1., 0.]])"
      ]
     },
     "execution_count": 33,
     "metadata": {},
     "output_type": "execute_result"
    }
   ],
   "source": [
    "from sklearn.preprocessing import OneHotEncoder\n",
    "onehot_enc = OneHotEncoder()\n",
    "# le résultat c'est un numpy.ndarray\n",
    "sex_enc = onehot_enc.fit_transform(adult[[\"sex\"]])\n",
    "sex_enc.toarray()[:6,]"
   ]
  },
  {
   "cell_type": "markdown",
   "id": "50946472",
   "metadata": {},
   "source": [
    "**TODO: Analyse** \n",
    "- Quel est le type d'encodage utilisé ?\n",
    "- A votre avis, dans quel cas peut-on utiliser ce type d'encodage ?\n",
    "\n",
    "**Réponse**\n",
    "- ... Encodage One-Hot\n",
    "- ... Lorsque les catégories ont le même degré d'importance"
   ]
  },
  {
   "cell_type": "code",
   "execution_count": 34,
   "id": "c86b4e21",
   "metadata": {},
   "outputs": [
    {
     "data": {
      "text/plain": [
       "0    40.0\n",
       "1    13.0\n",
       "2    40.0\n",
       "Name: hours-per-week, dtype: float64"
      ]
     },
     "execution_count": 34,
     "metadata": {},
     "output_type": "execute_result"
    }
   ],
   "source": [
    "adult[\"hours-per-week\"] = pd.to_numeric(adult[\"hours-per-week\"])\n",
    "adult[\"hours-per-week\"].head(3)"
   ]
  },
  {
   "cell_type": "code",
   "execution_count": 35,
   "id": "0fcba4ea",
   "metadata": {},
   "outputs": [
    {
     "data": {
      "text/plain": [
       "array([[0.49367089],\n",
       "       [0.15189873],\n",
       "       [0.49367089]])"
      ]
     },
     "execution_count": 35,
     "metadata": {},
     "output_type": "execute_result"
    }
   ],
   "source": [
    "from sklearn.preprocessing import MinMaxScaler\n",
    "\n",
    "min_max_scaler = MinMaxScaler()\n",
    "# le résultat c'est un numpy.ndarray\n",
    "hours_per_week_prop = min_max_scaler.fit_transform(adult[[\"hours-per-week\"]])\n",
    "hours_per_week_prop[:3,]"
   ]
  },
  {
   "cell_type": "code",
   "execution_count": 36,
   "id": "5be3df27",
   "metadata": {},
   "outputs": [
    {
     "data": {
      "text/html": [
       "<div>\n",
       "<style scoped>\n",
       "    .dataframe tbody tr th:only-of-type {\n",
       "        vertical-align: middle;\n",
       "    }\n",
       "\n",
       "    .dataframe tbody tr th {\n",
       "        vertical-align: top;\n",
       "    }\n",
       "\n",
       "    .dataframe thead th {\n",
       "        text-align: right;\n",
       "    }\n",
       "</style>\n",
       "<table border=\"1\" class=\"dataframe\">\n",
       "  <thead>\n",
       "    <tr style=\"text-align: right;\">\n",
       "      <th></th>\n",
       "      <th>age</th>\n",
       "      <th>workclass</th>\n",
       "      <th>education</th>\n",
       "      <th>marital-status</th>\n",
       "      <th>sex</th>\n",
       "      <th>hours-per-week</th>\n",
       "      <th>class</th>\n",
       "      <th>hours-per-week-prop</th>\n",
       "    </tr>\n",
       "  </thead>\n",
       "  <tbody>\n",
       "    <tr>\n",
       "      <th>0</th>\n",
       "      <td>39.0</td>\n",
       "      <td>State-gov</td>\n",
       "      <td>Bachelors</td>\n",
       "      <td>single</td>\n",
       "      <td>M</td>\n",
       "      <td>40.0</td>\n",
       "      <td>N</td>\n",
       "      <td>0.493671</td>\n",
       "    </tr>\n",
       "    <tr>\n",
       "      <th>1</th>\n",
       "      <td>50.0</td>\n",
       "      <td>Self-emp-not-inc</td>\n",
       "      <td>Bachelors</td>\n",
       "      <td>married</td>\n",
       "      <td>M</td>\n",
       "      <td>13.0</td>\n",
       "      <td>N</td>\n",
       "      <td>0.151899</td>\n",
       "    </tr>\n",
       "    <tr>\n",
       "      <th>2</th>\n",
       "      <td>38.0</td>\n",
       "      <td>Private</td>\n",
       "      <td>HS-grad</td>\n",
       "      <td>divorced</td>\n",
       "      <td>M</td>\n",
       "      <td>40.0</td>\n",
       "      <td>N</td>\n",
       "      <td>0.493671</td>\n",
       "    </tr>\n",
       "  </tbody>\n",
       "</table>\n",
       "</div>"
      ],
      "text/plain": [
       "    age         workclass  education marital-status sex  hours-per-week class  \\\n",
       "0  39.0         State-gov  Bachelors         single   M            40.0     N   \n",
       "1  50.0  Self-emp-not-inc  Bachelors        married   M            13.0     N   \n",
       "2  38.0           Private    HS-grad       divorced   M            40.0     N   \n",
       "\n",
       "   hours-per-week-prop  \n",
       "0             0.493671  \n",
       "1             0.151899  \n",
       "2             0.493671  "
      ]
     },
     "execution_count": 36,
     "metadata": {},
     "output_type": "execute_result"
    }
   ],
   "source": [
    "# pour ajouter la nouvelle caractéristique au dataframe\n",
    "adult[\"hours-per-week-prop\"] = hours_per_week_prop\n",
    "adult.head(3)"
   ]
  },
  {
   "cell_type": "markdown",
   "id": "bfa5f9d8",
   "metadata": {},
   "source": [
    "**TODO: Analyse** \n",
    "- Comment la normalisation MinMax est calculée ?\n",
    "- Décrire les valeurs résultats (plage de valeurs, etc.) ?\n",
    "- Est-ce que les valeurs du dataset de test sont garanties d'être dans la plage ?\n",
    "- Si oui, expliquer pouruoi. Si non, comment garantir la plage des valeurs ?\n",
    "\n",
    "**Réponse**\n",
    "- ... (x-min)/(max-min)\n",
    "- ... Les valeurs sont entre 0 et 1\n",
    "- ... Pas forcément dans le cas où on teste dans un autre dataset où les min et max seraient différents\n",
    "- ... En forçant les valeurs € [min, max] tq (valeur < min) => valeur = min, (valeur > max) => valeur = max"
   ]
  },
  {
   "cell_type": "code",
   "execution_count": 37,
   "id": "04c42c4e",
   "metadata": {},
   "outputs": [
    {
     "data": {
      "text/plain": [
       "0    39.0\n",
       "1    50.0\n",
       "2    38.0\n",
       "Name: age, dtype: float64"
      ]
     },
     "execution_count": 37,
     "metadata": {},
     "output_type": "execute_result"
    }
   ],
   "source": [
    "adult[\"age\"].head(3)"
   ]
  },
  {
   "cell_type": "code",
   "execution_count": 49,
   "id": "a1235410",
   "metadata": {},
   "outputs": [
    {
     "data": {
      "text/plain": [
       "array([[0.3442623 ],\n",
       "       [0.52459016],\n",
       "       [0.32786885],\n",
       "       [0.16393443],\n",
       "       [0.31147541],\n",
       "       [0.50819672],\n",
       "       [0.55737705],\n",
       "       [0.21311475],\n",
       "       [0.39344262],\n",
       "       [0.40983607]])"
      ]
     },
     "execution_count": 49,
     "metadata": {},
     "output_type": "execute_result"
    }
   ],
   "source": [
    "from sklearn.preprocessing import StandardScaler\n",
    "\n",
    "std_scaler = StandardScaler()\n",
    "# le résultat c'est un numpy.ndarray\n",
    "age_normal = min_max_scaler.fit_transform(adult[[\"age\"]])\n",
    "age_normal[:10,]"
   ]
  },
  {
   "cell_type": "markdown",
   "id": "38be4b39",
   "metadata": {},
   "source": [
    "**TODO: Analyse** \n",
    "- Comment la normalisation standard est calculée ?\n",
    "- Décrire les valeurs résultats (plage de valeurs, etc.) ?\n",
    "\n",
    "**Réponse**\n",
    "- ... $$standard(X_j) = \\frac{X_j - \\mu(X_j)}{\\sigma(X_j)}$$\n",
    "- ... Les valeurs sont entre 0 et 1 (car âge est > 0)"
   ]
  },
  {
   "cell_type": "code",
   "execution_count": 39,
   "id": "712f1f36",
   "metadata": {},
   "outputs": [
    {
     "data": {
      "text/plain": [
       "0     39.0\n",
       "1     50.0\n",
       "2     38.0\n",
       "4     28.0\n",
       "5     37.0\n",
       "6     49.0\n",
       "7     52.0\n",
       "8     31.0\n",
       "9     42.0\n",
       "10    43.0\n",
       "Name: age, dtype: float64"
      ]
     },
     "execution_count": 39,
     "metadata": {},
     "output_type": "execute_result"
    }
   ],
   "source": [
    "adult[\"age\"].head(10)"
   ]
  },
  {
   "cell_type": "code",
   "execution_count": 54,
   "id": "ac2de190",
   "metadata": {},
   "outputs": [
    {
     "data": {
      "text/plain": [
       "array([[0.],\n",
       "       [1.],\n",
       "       [0.],\n",
       "       [0.],\n",
       "       [0.],\n",
       "       [1.],\n",
       "       [1.],\n",
       "       [0.],\n",
       "       [1.],\n",
       "       [1.]])"
      ]
     },
     "execution_count": 54,
     "metadata": {},
     "output_type": "execute_result"
    }
   ],
   "source": [
    "from sklearn.preprocessing import Binarizer\n",
    "\n",
    "binarizer = Binarizer(threshold=40)\n",
    "# le résultat c'est un numpy.ndarray\n",
    "age_bin = binarizer.fit_transform(adult[[\"age\"]])\n",
    "age_bin[:10,]"
   ]
  },
  {
   "cell_type": "markdown",
   "id": "16d52fc1",
   "metadata": {},
   "source": [
    "**TODO: Analyse** \n",
    "- Quelle est l'opération appliquée ici ?\n",
    "- Quel est son rôle ?\n",
    "\n",
    "**Réponse**\n",
    "- ... Opération de binarisation\n",
    "- ... Placer les valeurs >= 40 comme étant 1, les autres 0"
   ]
  },
  {
   "cell_type": "markdown",
   "id": "3e1ade4f",
   "metadata": {},
   "source": [
    "### II.5. ACP\n",
    "\n",
    "Ici, nous allons appliquer l'ACP sur nos donnees. Mais avant ca, nous avons applique quelques operations."
   ]
  },
  {
   "cell_type": "code",
   "execution_count": 41,
   "id": "3888627b",
   "metadata": {},
   "outputs": [
    {
     "data": {
      "text/html": [
       "<div>\n",
       "<style scoped>\n",
       "    .dataframe tbody tr th:only-of-type {\n",
       "        vertical-align: middle;\n",
       "    }\n",
       "\n",
       "    .dataframe tbody tr th {\n",
       "        vertical-align: top;\n",
       "    }\n",
       "\n",
       "    .dataframe thead th {\n",
       "        text-align: right;\n",
       "    }\n",
       "</style>\n",
       "<table border=\"1\" class=\"dataframe\">\n",
       "  <thead>\n",
       "    <tr style=\"text-align: right;\">\n",
       "      <th></th>\n",
       "      <th>class</th>\n",
       "      <th>age</th>\n",
       "      <th>hours-per-week</th>\n",
       "      <th>workclass_Federal-gov</th>\n",
       "      <th>workclass_Local-gov</th>\n",
       "      <th>workclass_Private</th>\n",
       "      <th>workclass_Self-emp-inc</th>\n",
       "      <th>workclass_Self-emp-not-inc</th>\n",
       "      <th>workclass_State-gov</th>\n",
       "      <th>education_11th</th>\n",
       "      <th>...</th>\n",
       "      <th>education_HS-grad</th>\n",
       "      <th>education_Masters</th>\n",
       "      <th>education_Prof-school</th>\n",
       "      <th>education_Some-college</th>\n",
       "      <th>marital-status_divorced</th>\n",
       "      <th>marital-status_married</th>\n",
       "      <th>marital-status_single</th>\n",
       "      <th>marital-status_widowed</th>\n",
       "      <th>sex_F</th>\n",
       "      <th>sex_M</th>\n",
       "    </tr>\n",
       "  </thead>\n",
       "  <tbody>\n",
       "    <tr>\n",
       "      <th>0</th>\n",
       "      <td>N</td>\n",
       "      <td>39.0</td>\n",
       "      <td>40.0</td>\n",
       "      <td>0</td>\n",
       "      <td>0</td>\n",
       "      <td>0</td>\n",
       "      <td>0</td>\n",
       "      <td>0</td>\n",
       "      <td>1</td>\n",
       "      <td>0</td>\n",
       "      <td>...</td>\n",
       "      <td>0</td>\n",
       "      <td>0</td>\n",
       "      <td>0</td>\n",
       "      <td>0</td>\n",
       "      <td>0</td>\n",
       "      <td>0</td>\n",
       "      <td>1</td>\n",
       "      <td>0</td>\n",
       "      <td>0</td>\n",
       "      <td>1</td>\n",
       "    </tr>\n",
       "    <tr>\n",
       "      <th>1</th>\n",
       "      <td>N</td>\n",
       "      <td>50.0</td>\n",
       "      <td>13.0</td>\n",
       "      <td>0</td>\n",
       "      <td>0</td>\n",
       "      <td>0</td>\n",
       "      <td>0</td>\n",
       "      <td>1</td>\n",
       "      <td>0</td>\n",
       "      <td>0</td>\n",
       "      <td>...</td>\n",
       "      <td>0</td>\n",
       "      <td>0</td>\n",
       "      <td>0</td>\n",
       "      <td>0</td>\n",
       "      <td>0</td>\n",
       "      <td>1</td>\n",
       "      <td>0</td>\n",
       "      <td>0</td>\n",
       "      <td>0</td>\n",
       "      <td>1</td>\n",
       "    </tr>\n",
       "    <tr>\n",
       "      <th>2</th>\n",
       "      <td>N</td>\n",
       "      <td>38.0</td>\n",
       "      <td>40.0</td>\n",
       "      <td>0</td>\n",
       "      <td>0</td>\n",
       "      <td>1</td>\n",
       "      <td>0</td>\n",
       "      <td>0</td>\n",
       "      <td>0</td>\n",
       "      <td>0</td>\n",
       "      <td>...</td>\n",
       "      <td>1</td>\n",
       "      <td>0</td>\n",
       "      <td>0</td>\n",
       "      <td>0</td>\n",
       "      <td>1</td>\n",
       "      <td>0</td>\n",
       "      <td>0</td>\n",
       "      <td>0</td>\n",
       "      <td>0</td>\n",
       "      <td>1</td>\n",
       "    </tr>\n",
       "    <tr>\n",
       "      <th>4</th>\n",
       "      <td>N</td>\n",
       "      <td>28.0</td>\n",
       "      <td>40.0</td>\n",
       "      <td>0</td>\n",
       "      <td>0</td>\n",
       "      <td>1</td>\n",
       "      <td>0</td>\n",
       "      <td>0</td>\n",
       "      <td>0</td>\n",
       "      <td>0</td>\n",
       "      <td>...</td>\n",
       "      <td>0</td>\n",
       "      <td>0</td>\n",
       "      <td>0</td>\n",
       "      <td>0</td>\n",
       "      <td>0</td>\n",
       "      <td>1</td>\n",
       "      <td>0</td>\n",
       "      <td>0</td>\n",
       "      <td>1</td>\n",
       "      <td>0</td>\n",
       "    </tr>\n",
       "    <tr>\n",
       "      <th>5</th>\n",
       "      <td>N</td>\n",
       "      <td>37.0</td>\n",
       "      <td>40.0</td>\n",
       "      <td>0</td>\n",
       "      <td>0</td>\n",
       "      <td>1</td>\n",
       "      <td>0</td>\n",
       "      <td>0</td>\n",
       "      <td>0</td>\n",
       "      <td>0</td>\n",
       "      <td>...</td>\n",
       "      <td>0</td>\n",
       "      <td>1</td>\n",
       "      <td>0</td>\n",
       "      <td>0</td>\n",
       "      <td>0</td>\n",
       "      <td>1</td>\n",
       "      <td>0</td>\n",
       "      <td>0</td>\n",
       "      <td>1</td>\n",
       "      <td>0</td>\n",
       "    </tr>\n",
       "  </tbody>\n",
       "</table>\n",
       "<p>5 rows × 27 columns</p>\n",
       "</div>"
      ],
      "text/plain": [
       "  class   age  hours-per-week  workclass_Federal-gov  workclass_Local-gov  \\\n",
       "0     N  39.0            40.0                      0                    0   \n",
       "1     N  50.0            13.0                      0                    0   \n",
       "2     N  38.0            40.0                      0                    0   \n",
       "4     N  28.0            40.0                      0                    0   \n",
       "5     N  37.0            40.0                      0                    0   \n",
       "\n",
       "   workclass_Private  workclass_Self-emp-inc  workclass_Self-emp-not-inc  \\\n",
       "0                  0                       0                           0   \n",
       "1                  0                       0                           1   \n",
       "2                  1                       0                           0   \n",
       "4                  1                       0                           0   \n",
       "5                  1                       0                           0   \n",
       "\n",
       "   workclass_State-gov  education_11th  ...  education_HS-grad  \\\n",
       "0                    1               0  ...                  0   \n",
       "1                    0               0  ...                  0   \n",
       "2                    0               0  ...                  1   \n",
       "4                    0               0  ...                  0   \n",
       "5                    0               0  ...                  0   \n",
       "\n",
       "   education_Masters  education_Prof-school  education_Some-college  \\\n",
       "0                  0                      0                       0   \n",
       "1                  0                      0                       0   \n",
       "2                  0                      0                       0   \n",
       "4                  0                      0                       0   \n",
       "5                  1                      0                       0   \n",
       "\n",
       "   marital-status_divorced  marital-status_married  marital-status_single  \\\n",
       "0                        0                       0                      1   \n",
       "1                        0                       1                      0   \n",
       "2                        1                       0                      0   \n",
       "4                        0                       1                      0   \n",
       "5                        0                       1                      0   \n",
       "\n",
       "   marital-status_widowed  sex_F  sex_M  \n",
       "0                       0      0      1  \n",
       "1                       0      0      1  \n",
       "2                       0      0      1  \n",
       "4                       0      1      0  \n",
       "5                       0      1      0  \n",
       "\n",
       "[5 rows x 27 columns]"
      ]
     },
     "execution_count": 41,
     "metadata": {},
     "output_type": "execute_result"
    }
   ],
   "source": [
    "# Transformer les attributs \n",
    "adult_num = pd.get_dummies(adult, columns=['workclass', 'education', 'marital-status', 'sex'])\n",
    "# Repositionner la classe pour etre en premier\n",
    "adult_num.insert(0, 'class', adult_num.pop('class'))\n",
    "# Nous n'avons pas besoin de ca ici\n",
    "adult_num.pop('hours-per-week-prop') \n",
    "adult_num.head()"
   ]
  },
  {
   "cell_type": "markdown",
   "id": "649a04fc",
   "metadata": {},
   "source": [
    "**TODO: Analyse** \n",
    "- Pourquoi nous avons transforme les caracteristiques : 'workclass', 'education', 'marital-status', 'sex' ?\n",
    "- Pourquoi nous avons supprime la carcteristique 'hours-per-week-prop' ?\n",
    "\n",
    "**Réponse**\n",
    "- ... Car ce sont des données qualitatives et donc on peut pas appliquer l'ACP dessus\n",
    "- ... C'est une information redondante"
   ]
  },
  {
   "cell_type": "code",
   "execution_count": 51,
   "id": "bc0fded5",
   "metadata": {},
   "outputs": [
    {
     "data": {
      "text/plain": [
       "array([[ 0.90589486, -1.05874639],\n",
       "       [26.18987797, 13.46056046],\n",
       "       [ 0.12921225, -0.450828  ],\n",
       "       [-7.75501444,  5.68754065],\n",
       "       [-0.65016966,  0.16407329]])"
      ]
     },
     "execution_count": 51,
     "metadata": {},
     "output_type": "execute_result"
    }
   ],
   "source": [
    "from sklearn.decomposition import PCA\n",
    "\n",
    "pca_adult = PCA(n_components=2)\n",
    "\n",
    "adult_pca = pca_adult.fit_transform(adult_num.iloc[:, 1:].values)\n",
    "\n",
    "adult_pca[:5, :]"
   ]
  },
  {
   "cell_type": "code",
   "execution_count": 43,
   "id": "9e74a210",
   "metadata": {},
   "outputs": [
    {
     "data": {
      "image/png": "[encoded data removed]",
      "text/plain": [
       "<Figure size 432x288 with 1 Axes>"
      ]
     },
     "metadata": {
      "needs_background": "light"
     },
     "output_type": "display_data"
    }
   ],
   "source": [
    "# Extraire la collone 'class' qui est en premier\n",
    "Y = adult_num.iloc[:, 0].values\n",
    "# Trouver les echantillons ayant la class 'N', \n",
    "# la negation est les echantillons ayant la class 'Y' (classement binaire)\n",
    "No_class = Y == 'N'\n",
    "# Ploter les echantillons selon les deux composantes\n",
    "plt.scatter(adult_pca[ No_class,0], adult_pca[ No_class, 1], color='red'  , label='No' )\n",
    "plt.scatter(adult_pca[~No_class,0], adult_pca[~No_class, 1], color='green', label='Yes')\n",
    "\n",
    "circle1 = plt.Circle((39.87348226,  18.02549656), 3, color='b', fill=False, ls='--')\n",
    "ax = plt.gca()\n",
    "ax.add_patch(circle1)\n",
    "\n",
    "plt.legend(loc='upper right')\n",
    "plt.show()"
   ]
  },
  {
   "cell_type": "markdown",
   "id": "c6bc9368",
   "metadata": {},
   "source": [
    "**TODO: Analyse** \n",
    "- Pour quel but nous avons utilise l'ACP ?\n",
    "- Que pouvons-nous dire a propos de l'echantillon en vert dans les environs de [40, 18] ?\n",
    "- Quelle est la classe la plus homogene ? \n",
    "- Pourquoi ?\n",
    "\n",
    "**Réponse**\n",
    "- ... Pour réduire la dimensionnalité et bien pouvoir visualiser\n",
    "- ... C'est un échantillon parlant\n",
    "- ... La plus homogène c'est la classe des 'N'\n",
    "- ... Car la plupart les points sont rapprochés entre eux"
   ]
  },
  {
   "cell_type": "code",
   "execution_count": 44,
   "id": "7d80279e",
   "metadata": {},
   "outputs": [
    {
     "name": "stdout",
     "output_type": "stream",
     "text": [
      "Luck is overrated\n",
      "BUT\n",
      "Good luck anayways\n"
     ]
    }
   ],
   "source": [
    "print('Luck is overrated')\n",
    "print('BUT')\n",
    "print('Good luck anayways')"
   ]
  }
 ],
 "metadata": {
  "kernelspec": {
   "display_name": "Python 3 (ipykernel)",
   "language": "python",
   "name": "python3"
  },
  "language_info": {
   "codemirror_mode": {
    "name": "ipython",
    "version": 3
   },
   "file_extension": ".py",
   "mimetype": "text/x-python",
   "name": "python",
   "nbconvert_exporter": "python",
   "pygments_lexer": "ipython3",
   "version": "3.11.1"
  }
 },
 "nbformat": 4,
 "nbformat_minor": 5
}
